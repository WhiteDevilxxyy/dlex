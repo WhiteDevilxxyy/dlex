{
 "cells": [
  {
   "cell_type": "code",
   "execution_count": 17,
   "metadata": {},
   "outputs": [],
   "source": [
    "# Import the libraries and dataset\n",
    "import numpy as np \n",
    "from sklearn.model_selection import train_test_split\n",
    "import matplotlib.pyplot as plt\n",
    "# We will be using the Iris Plants Database\n",
    "from sklearn.datasets import load_iris\n",
    "\n",
    "SEED = 2017"
   ]
  },
  {
   "cell_type": "markdown",
   "metadata": {},
   "source": [
    "##### What is the purpose of seed in Python?\n",
    "\n",
    "The seed() method is used to initialize the random number generator. \n",
    "\n",
    "The random number generator needs a number to start with (a seed value), to be able to generate a random number. \n",
    "\n",
    "By default the random number generator uses the current system time.\n",
    "\n",
    "Seed function is used to save the state of a random function, so that it can generate same random numbers on multiple executions of the code on the same machine or on different machines "
   ]
  },
  {
   "cell_type": "code",
   "execution_count": 18,
   "metadata": {},
   "outputs": [],
   "source": [
    "# The first two classes (Iris-Setosa and Iris-Versicolour) are linear separable\n",
    "iris = load_iris()\n",
    "idxs = np.where(iris.target<2)\n",
    "X = iris.data[idxs]\n",
    "y = iris.target[idxs]"
   ]
  },
  {
   "cell_type": "code",
   "execution_count": 19,
   "metadata": {},
   "outputs": [
    {
     "data": {
      "text/plain": [
       "array([0, 0, 0, 0, 0, 0, 0, 0, 0, 0, 0, 0, 0, 0, 0, 0, 0, 0, 0, 0, 0, 0,\n",
       "       0, 0, 0, 0, 0, 0, 0, 0, 0, 0, 0, 0, 0, 0, 0, 0, 0, 0, 0, 0, 0, 0,\n",
       "       0, 0, 0, 0, 0, 0, 1, 1, 1, 1, 1, 1, 1, 1, 1, 1, 1, 1, 1, 1, 1, 1,\n",
       "       1, 1, 1, 1, 1, 1, 1, 1, 1, 1, 1, 1, 1, 1, 1, 1, 1, 1, 1, 1, 1, 1,\n",
       "       1, 1, 1, 1, 1, 1, 1, 1, 1, 1, 1, 1])"
      ]
     },
     "execution_count": 19,
     "metadata": {},
     "output_type": "execute_result"
    }
   ],
   "source": [
    "y"
   ]
  },
  {
   "cell_type": "code",
   "execution_count": null,
   "metadata": {},
   "outputs": [],
   "source": []
  },
  {
   "cell_type": "code",
   "execution_count": 20,
   "metadata": {},
   "outputs": [
    {
     "data": {
      "image/png": "[encoded data removed]",
      "text/plain": [
       "<Figure size 432x288 with 1 Axes>"
      ]
     },
     "metadata": {
      "needs_background": "light"
     },
     "output_type": "display_data"
    }
   ],
   "source": [
    "# Let's plot the data for two of the four variables \n",
    "plt.scatter(X[y==0][:,0],X[y==0][:,2], color='green', label='Iris-Setosa')\n",
    "plt.scatter(X[y==1][:,0],X[y==1][:,2], color='red', label='Iris-Versicolour')\n",
    "plt.title('Iris Plants Database')\n",
    "plt.xlabel('sepal length in cm')\n",
    "plt.ylabel('sepal width in cm')\n",
    "plt.legend()\n",
    "plt.show()\n",
    "\n",
    "# In the following graph, we've plotted the distribution of the two classes"
   ]
  },
  {
   "cell_type": "code",
   "execution_count": 21,
   "metadata": {},
   "outputs": [],
   "source": [
    "# To validate our results, we split the data into training and validation sets\n",
    "\n",
    "X_train, X_val, y_train, y_val = train_test_split(X, y, test_size=0.2, random_state=SEED)"
   ]
  },
  {
   "cell_type": "code",
   "execution_count": 23,
   "metadata": {},
   "outputs": [
    {
     "name": "stdout",
     "output_type": "stream",
     "text": [
      "[[6.4 2.9 4.3 1.3]\n",
      " [6.1 2.8 4.7 1.2]\n",
      " [6.4 3.2 4.5 1.5]\n",
      " [6.  3.4 4.5 1.6]\n",
      " [5.1 3.4 1.5 0.2]\n",
      " [4.9 3.6 1.4 0.1]\n",
      " [4.7 3.2 1.6 0.2]\n",
      " [5.6 2.7 4.2 1.3]\n",
      " [5.5 2.4 3.8 1.1]\n",
      " [5.1 3.8 1.9 0.4]\n",
      " [5.  3.  1.6 0.2]\n",
      " [5.5 2.5 4.  1.3]\n",
      " [5.7 3.8 1.7 0.3]\n",
      " [4.8 3.  1.4 0.3]\n",
      " [5.8 4.  1.2 0.2]\n",
      " [6.6 3.  4.4 1.4]\n",
      " [5.2 4.1 1.5 0.1]\n",
      " [5.2 3.5 1.5 0.2]\n",
      " [5.7 2.8 4.5 1.3]\n",
      " [4.9 2.4 3.3 1. ]\n",
      " [5.  3.6 1.4 0.2]\n",
      " [6.3 3.3 4.7 1.6]\n",
      " [6.1 3.  4.6 1.4]\n",
      " [5.  2.3 3.3 1. ]\n",
      " [6.1 2.9 4.7 1.4]\n",
      " [5.5 2.4 3.7 1. ]\n",
      " [5.7 2.8 4.1 1.3]\n",
      " [4.6 3.4 1.4 0.3]\n",
      " [4.8 3.4 1.9 0.2]\n",
      " [6.7 3.1 4.7 1.5]\n",
      " [5.1 3.3 1.7 0.5]\n",
      " [4.5 2.3 1.3 0.3]\n",
      " [5.6 3.  4.1 1.3]\n",
      " [5.4 3.4 1.5 0.4]\n",
      " [5.1 3.8 1.6 0.2]\n",
      " [6.7 3.  5.  1.7]\n",
      " [5.1 3.8 1.5 0.3]\n",
      " [4.9 3.  1.4 0.2]\n",
      " [5.1 3.7 1.5 0.4]\n",
      " [5.7 3.  4.2 1.2]\n",
      " [5.8 2.7 3.9 1.2]\n",
      " [5.5 2.3 4.  1.3]\n",
      " [6.5 2.8 4.6 1.5]\n",
      " [5.9 3.  4.2 1.5]\n",
      " [5.4 3.9 1.3 0.4]\n",
      " [6.2 2.2 4.5 1.5]\n",
      " [5.5 3.5 1.3 0.2]\n",
      " [5.4 3.7 1.5 0.2]\n",
      " [5.1 2.5 3.  1.1]\n",
      " [4.8 3.1 1.6 0.2]\n",
      " [6.3 2.3 4.4 1.3]\n",
      " [5.  3.5 1.6 0.6]\n",
      " [5.6 2.9 3.6 1.3]\n",
      " [6.7 3.1 4.4 1.4]\n",
      " [5.6 2.5 3.9 1.1]\n",
      " [5.7 2.6 3.5 1. ]\n",
      " [6.1 2.8 4.  1.3]\n",
      " [5.  3.3 1.4 0.2]\n",
      " [5.7 2.9 4.2 1.3]\n",
      " [5.  3.2 1.2 0.2]\n",
      " [5.8 2.6 4.  1.2]\n",
      " [4.7 3.2 1.3 0.2]\n",
      " [5.2 3.4 1.4 0.2]\n",
      " [6.  2.7 5.1 1.6]\n",
      " [4.4 3.  1.3 0.2]\n",
      " [5.  3.5 1.3 0.3]\n",
      " [5.1 3.5 1.4 0.2]\n",
      " [6.3 2.5 4.9 1.5]\n",
      " [5.7 4.4 1.5 0.4]\n",
      " [5.  3.4 1.5 0.2]\n",
      " [4.6 3.2 1.4 0.2]\n",
      " [4.6 3.1 1.5 0.2]\n",
      " [6.6 2.9 4.6 1.3]\n",
      " [7.  3.2 4.7 1.4]\n",
      " [4.4 2.9 1.4 0.2]\n",
      " [4.4 3.2 1.3 0.2]\n",
      " [4.3 3.  1.1 0.1]\n",
      " [5.9 3.2 4.8 1.8]\n",
      " [4.9 3.1 1.5 0.1]\n",
      " [5.2 2.7 3.9 1.4]]\n",
      "[[5.  3.4 1.6 0.4]\n",
      " [4.8 3.  1.4 0.1]\n",
      " [5.  2.  3.5 1. ]\n",
      " [5.4 3.9 1.7 0.4]\n",
      " [5.6 3.  4.5 1.5]\n",
      " [5.8 2.7 4.1 1. ]\n",
      " [5.1 3.5 1.4 0.3]\n",
      " [5.5 4.2 1.4 0.2]\n",
      " [4.9 3.1 1.5 0.2]\n",
      " [6.8 2.8 4.8 1.4]\n",
      " [5.4 3.  4.5 1.5]\n",
      " [6.9 3.1 4.9 1.5]\n",
      " [5.4 3.4 1.7 0.2]\n",
      " [6.  2.2 4.  1. ]\n",
      " [4.6 3.6 1.  0.2]\n",
      " [5.3 3.7 1.5 0.2]\n",
      " [4.8 3.4 1.6 0.2]\n",
      " [6.2 2.9 4.3 1.3]\n",
      " [6.  2.9 4.5 1.5]\n",
      " [5.5 2.6 4.4 1.2]]\n",
      "[1 1 1 1 0 0 0 1 1 0 0 1 0 0 0 1 0 0 1 1 0 1 1 1 1 1 1 0 0 1 0 0 1 0 0 1 0\n",
      " 0 0 1 1 1 1 1 0 1 0 0 1 0 1 0 1 1 1 1 1 0 1 0 1 0 0 1 0 0 0 1 0 0 0 0 1 1\n",
      " 0 0 0 1 0 1]\n",
      "[0 0 1 0 1 1 0 0 0 1 1 1 0 1 0 0 0 1 1 1]\n"
     ]
    }
   ],
   "source": [
    "print(X_train)\n",
    "print(X_val)\n",
    "print(y_train)\n",
    "print(y_val)"
   ]
  },
  {
   "cell_type": "code",
   "execution_count": 24,
   "metadata": {},
   "outputs": [],
   "source": [
    "# Next, we initialize the weights and the bias for the perceptron\n",
    "\n",
    "weights = np.random.normal(size=X_train.shape[1])\n",
    "bias = 1"
   ]
  },
  {
   "cell_type": "code",
   "execution_count": 25,
   "metadata": {},
   "outputs": [
    {
     "name": "stdout",
     "output_type": "stream",
     "text": [
      "[0.53196048 0.40239972 0.49817383 1.30655505]\n"
     ]
    }
   ],
   "source": [
    "print(weights)"
   ]
  },
  {
   "cell_type": "code",
   "execution_count": 26,
   "metadata": {},
   "outputs": [],
   "source": [
    "# Before training, we need to define the hyperparameters\n",
    "\n",
    "learning_rate = 0.1\n",
    "n_epochs = 15"
   ]
  },
  {
   "cell_type": "code",
   "execution_count": 27,
   "metadata": {},
   "outputs": [
    {
     "data": {
      "text/plain": [
       "array([0., 0., 0., 0.])"
      ]
     },
     "execution_count": 27,
     "metadata": {},
     "output_type": "execute_result"
    }
   ],
   "source": [
    "np.zeros(weights.shape)"
   ]
  },
  {
   "cell_type": "code",
   "execution_count": 29,
   "metadata": {},
   "outputs": [
    {
     "name": "stdout",
     "output_type": "stream",
     "text": [
      "[0 0 0 0 0 0 0 0 0 0 0 0 0 0 0 0 0 0 0 0 0 0 0 0 0 0 0 0 0 0 0 0 0 0 0 0 0\n",
      " 0 0 0 0 0 0 0 0 0 0 0 0 0 0 0 0 0 0 0 0 0 0 0 0 0 0 0 0 0 0 0 0 0 0 0 0 0\n",
      " 0 0 0 0 0 0]\n",
      "Error:  0.5\n",
      "Weights: [ 4.34196048 -2.08760028 11.61817383  5.65655505]\n",
      "bias: -15.79\n",
      "[1 1 1 1 1 1 1 1 1 1 1 1 1 1 1 1 1 1 1 1 1 1 1 1 1 1 1 1 1 1 1 1 1 1 1 1 1\n",
      " 1 1 1 1 1 1 1 1 1 1 1 1 1 1 1 1 1 1 1 1 1 1 1 1 1 1 1 1 1 1 1 1 1 1 1 1 1\n",
      " 1 1 1 1 1 1]\n",
      "Error:  0.5\n",
      "Weights: [-15.60803952 -15.70760028   5.78817383   4.66655505]\n",
      "bias: 24.599999999999987\n",
      "[0 0 0 0 0 0 0 0 0 0 0 0 0 0 0 0 0 0 0 0 0 0 0 0 0 0 0 0 0 0 0 0 0 0 0 0 0\n",
      " 0 0 0 0 0 0 0 0 0 0 0 0 0 0 0 0 0 0 0 0 0 0 0 0 0 0 0 0 0 0 0 0 0 0 0 0 0\n",
      " 0 0 0 0 0 0]\n",
      "Error:  0.5\n",
      "Weights: [ 8.15196048 -4.57760028 22.73817383 10.00655505]\n",
      "bias: -32.58\n",
      "[1 1 1 1 1 1 1 1 1 1 1 1 1 1 1 1 1 1 1 1 1 1 1 1 1 1 1 1 1 1 1 1 1 1 1 1 1\n",
      " 1 1 1 1 1 1 1 1 1 1 1 1 1 1 1 1 1 1 1 1 1 1 1 1 1 1 1 1 1 1 1 1 1 1 1 1 1\n",
      " 1 1 1 1 1 1]\n",
      "Error:  0.5\n",
      "Weights: [-11.79803952 -18.19760028  16.90817383   9.01655505]\n",
      "bias: 7.809999999999988\n",
      "[0 0 0 0 0 0 0 0 0 0 0 0 0 0 0 0 0 0 0 0 0 0 0 0 0 0 0 0 0 0 0 0 0 0 0 0 0\n",
      " 0 0 0 0 0 0 0 0 0 0 0 0 0 0 0 0 0 0 0 0 0 0 0 0 0 0 0 0 0 0 0 0 0 0 0 0 0\n",
      " 0 0 0 0 0 0]\n",
      "Error:  0.5\n",
      "Weights: [11.96196048 -7.06760028 33.85817383 14.35655505]\n",
      "bias: -49.37\n",
      "[1 1 1 1 1 1 1 1 1 1 1 1 1 1 1 1 1 1 1 1 1 1 1 1 1 1 1 1 1 1 1 1 1 1 1 1 1\n",
      " 1 1 1 1 1 1 1 1 1 1 1 1 1 1 1 1 1 1 1 1 1 1 1 1 1 1 1 1 1 1 1 1 1 1 1 1 1\n",
      " 1 1 1 1 1 1]\n",
      "Error:  0.5\n",
      "Weights: [ -7.98803952 -20.68760028  28.02817383  13.36655505]\n",
      "bias: -8.980000000000011\n",
      "[1 1 1 1 0 0 0 1 1 0 0 1 0 0 0 1 0 0 1 1 0 1 1 1 1 1 1 0 0 1 0 0 1 0 0 1 0\n",
      " 0 0 1 1 1 1 1 0 1 0 0 0 0 1 0 1 1 1 1 1 0 1 0 1 0 0 1 0 0 0 1 0 0 0 0 1 1\n",
      " 0 0 0 1 0 1]\n",
      "Error:  0.0125\n",
      "Weights: [ -7.47803952 -20.43760028  28.32817383  13.47655505]\n",
      "bias: -10.150000000000011\n",
      "[1 1 1 1 0 0 0 1 1 0 0 1 0 0 0 1 0 0 1 1 0 1 1 1 1 1 1 0 0 1 0 0 1 0 0 1 0\n",
      " 0 0 1 1 1 1 1 0 1 0 0 0 0 1 0 1 1 1 1 1 0 1 0 1 0 0 1 0 0 0 1 0 0 0 0 1 1\n",
      " 0 0 0 1 0 1]\n",
      "Error:  0.0125\n",
      "Weights: [ -6.96803952 -20.18760028  28.62817383  13.58655505]\n",
      "bias: -11.320000000000011\n",
      "[1 1 1 1 0 0 0 1 1 0 0 1 0 0 0 1 0 0 1 1 0 1 1 1 1 1 1 0 0 1 0 0 1 0 0 1 0\n",
      " 0 0 1 1 1 1 1 0 1 0 0 1 0 1 0 1 1 1 1 1 0 1 0 1 0 0 1 0 0 0 1 0 0 0 0 1 1\n",
      " 0 0 0 1 0 1]\n",
      "Error:  0.0\n",
      "Weights: [ -6.96803952 -20.18760028  28.62817383  13.58655505]\n",
      "bias: -11.320000000000011\n",
      "[1 1 1 1 0 0 0 1 1 0 0 1 0 0 0 1 0 0 1 1 0 1 1 1 1 1 1 0 0 1 0 0 1 0 0 1 0\n",
      " 0 0 1 1 1 1 1 0 1 0 0 1 0 1 0 1 1 1 1 1 0 1 0 1 0 0 1 0 0 0 1 0 0 0 0 1 1\n",
      " 0 0 0 1 0 1]\n",
      "Error:  0.0\n",
      "Weights: [ -6.96803952 -20.18760028  28.62817383  13.58655505]\n",
      "bias: -11.320000000000011\n",
      "[1 1 1 1 0 0 0 1 1 0 0 1 0 0 0 1 0 0 1 1 0 1 1 1 1 1 1 0 0 1 0 0 1 0 0 1 0\n",
      " 0 0 1 1 1 1 1 0 1 0 0 1 0 1 0 1 1 1 1 1 0 1 0 1 0 0 1 0 0 0 1 0 0 0 0 1 1\n",
      " 0 0 0 1 0 1]\n",
      "Error:  0.0\n",
      "Weights: [ -6.96803952 -20.18760028  28.62817383  13.58655505]\n",
      "bias: -11.320000000000011\n",
      "[1 1 1 1 0 0 0 1 1 0 0 1 0 0 0 1 0 0 1 1 0 1 1 1 1 1 1 0 0 1 0 0 1 0 0 1 0\n",
      " 0 0 1 1 1 1 1 0 1 0 0 1 0 1 0 1 1 1 1 1 0 1 0 1 0 0 1 0 0 0 1 0 0 0 0 1 1\n",
      " 0 0 0 1 0 1]\n",
      "Error:  0.0\n",
      "Weights: [ -6.96803952 -20.18760028  28.62817383  13.58655505]\n",
      "bias: -11.320000000000011\n",
      "[1 1 1 1 0 0 0 1 1 0 0 1 0 0 0 1 0 0 1 1 0 1 1 1 1 1 1 0 0 1 0 0 1 0 0 1 0\n",
      " 0 0 1 1 1 1 1 0 1 0 0 1 0 1 0 1 1 1 1 1 0 1 0 1 0 0 1 0 0 0 1 0 0 0 0 1 1\n",
      " 0 0 0 1 0 1]\n",
      "Error:  0.0\n",
      "Weights: [ -6.96803952 -20.18760028  28.62817383  13.58655505]\n",
      "bias: -11.320000000000011\n",
      "[1 1 1 1 0 0 0 1 1 0 0 1 0 0 0 1 0 0 1 1 0 1 1 1 1 1 1 0 0 1 0 0 1 0 0 1 0\n",
      " 0 0 1 1 1 1 1 0 1 0 0 1 0 1 0 1 1 1 1 1 0 1 0 1 0 0 1 0 0 0 1 0 0 0 0 1 1\n",
      " 0 0 0 1 0 1]\n",
      "Error:  0.0\n",
      "Weights: [ -6.96803952 -20.18760028  28.62817383  13.58655505]\n",
      "bias: -11.320000000000011\n",
      "[1 1 1 1 0 0 0 1 1 0 0 1 0 0 0 1 0 0 1 1 0 1 1 1 1 1 1 0 0 1 0 0 1 0 0 1 0\n",
      " 0 0 1 1 1 1 1 0 1 0 0 1 0 1 0 1 1 1 1 1 0 1 0 1 0 0 1 0 0 0 1 0 0 0 0 1 1\n",
      " 0 0 0 1 0 1]\n",
      "Error:  0.0\n",
      "Weights: [ -6.96803952 -20.18760028  28.62817383  13.58655505]\n",
      "bias: -11.320000000000011\n"
     ]
    }
   ],
   "source": [
    "# Now, we can start training our perceptron with a for loop\n",
    "\n",
    "del_w = np.zeros(weights.shape)\n",
    "hist_loss = []\n",
    "hist_accuracy = []\n",
    "\n",
    "for i in range(n_epochs):\n",
    "    # We apply a simple step function, if the output is > 0.5 we predict 1, else 0\n",
    "    output = np.where((X_train.dot(weights)+bias)>0.5, 1, 0)\n",
    "    print(output)\n",
    "    \n",
    "    # Compute MSE\n",
    "    error = np.mean((y_train-output)**2)\n",
    "    print(\"Error: \", error)\n",
    "\n",
    "    # Update weights and bias\n",
    "    weights-= learning_rate * np.dot((output-y_train), X_train)\n",
    "    bias += learning_rate * np.sum(np.dot((output-y_train), X_train))\n",
    "    print(\"Weights:\", weights)\n",
    "    print(\"bias:\", bias)\n",
    "\n",
    "    # Calculate MSE\n",
    "    loss = np.mean((output - y_train) ** 2)\n",
    "    hist_loss.append(loss)\n",
    "\n",
    "    # Determine validation accuracy\n",
    "    output_val = np.where(X_val.dot(weights)>0.5, 1, 0)\n",
    "    accuracy = np.mean(np.where(y_val==output_val, 1, 0))\n",
    "    hist_accuracy.append(accuracy)"
   ]
  },
  {
   "cell_type": "code",
   "execution_count": 30,
   "metadata": {},
   "outputs": [
    {
     "data": {
      "text/plain": [
       "array([1, 1, 1, 1, 0, 0, 0, 1, 1, 0, 0, 1, 0, 0, 0, 1, 0, 0, 1, 1, 0, 1,\n",
       "       1, 1, 1, 1, 1, 0, 0, 1, 0, 0, 1, 0, 0, 1, 0, 0, 0, 1, 1, 1, 1, 1,\n",
       "       0, 1, 0, 0, 1, 0, 1, 0, 1, 1, 1, 1, 1, 0, 1, 0, 1, 0, 0, 1, 0, 0,\n",
       "       0, 1, 0, 0, 0, 0, 1, 1, 0, 0, 0, 1, 0, 1])"
      ]
     },
     "execution_count": 30,
     "metadata": {},
     "output_type": "execute_result"
    }
   ],
   "source": [
    "output"
   ]
  },
  {
   "cell_type": "code",
   "execution_count": 31,
   "metadata": {},
   "outputs": [
    {
     "data": {
      "image/png": "[encoded data removed]",
      "text/plain": [
       "<Figure size 576x288 with 2 Axes>"
      ]
     },
     "metadata": {
      "needs_background": "light"
     },
     "output_type": "display_data"
    }
   ],
   "source": [
    "# We've saved the training loss and validation accuracy so that we can plot them\n",
    "\n",
    "fig = plt.figure(figsize=(8, 4))\n",
    "a = fig.add_subplot(1,2,1)\n",
    "imgplot = plt.plot(hist_loss)\n",
    "plt.xlabel('epochs')\n",
    "a.set_title('Training loss')\n",
    "\n",
    "a=fig.add_subplot(1,2,2)\n",
    "imgplot = plt.plot(hist_accuracy)\n",
    "plt.xlabel('epochs')\n",
    "a.set_title('Validation Accuracy')\n",
    "plt.show()"
   ]
  },
  {
   "cell_type": "code",
   "execution_count": null,
   "metadata": {},
   "outputs": [],
   "source": []
  }
 ],
 "metadata": {
  "kernelspec": {
   "display_name": "Python 3 (ipykernel)",
   "language": "python",
   "name": "python3"
  },
  "language_info": {
   "codemirror_mode": {
    "name": "ipython",
    "version": 3
   },
   "file_extension": ".py",
   "mimetype": "text/x-python",
   "name": "python",
   "nbconvert_exporter": "python",
   "pygments_lexer": "ipython3",
   "version": "3.9.7"
  },
  "widgets": {
   "state": {},
   "version": "1.1.2"
  }
 },
 "nbformat": 4,
 "nbformat_minor": 2
}
