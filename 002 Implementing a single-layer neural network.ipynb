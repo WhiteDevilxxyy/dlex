{
 "cells": [
  {
   "cell_type": "code",
   "execution_count": 1,
   "metadata": {},
   "outputs": [],
   "source": [
    "# Import libraries and dataset\n",
    "import numpy as np \n",
    "from sklearn.model_selection import train_test_split\n",
    "import matplotlib.pyplot as plt\n",
    "\n",
    "# We will be using make_circles from scikit-learn\n",
    "from sklearn.datasets import make_circles\n",
    "\n",
    "SEED = 2017"
   ]
  },
  {
   "cell_type": "code",
   "execution_count": 2,
   "metadata": {},
   "outputs": [],
   "source": [
    "# First, we need to create the training data\n",
    "# We create an inner and outer circle\n",
    "\n",
    "X, y = make_circles(n_samples=400, factor=.3, noise=.05, random_state=2017)\n",
    "outer = y == 0\n",
    "inner = y == 1"
   ]
  },
  {
   "cell_type": "code",
   "execution_count": 3,
   "metadata": {},
   "outputs": [
    {
     "data": {
      "image/png": "[encoded data removed]",
      "text/plain": [
       "<Figure size 432x288 with 1 Axes>"
      ]
     },
     "metadata": {
      "needs_background": "light"
     },
     "output_type": "display_data"
    }
   ],
   "source": [
    "# Let's plot the data to show the two classes\n",
    "\n",
    "plt.title(\"Two Circles\")\n",
    "plt.plot(X[outer, 0], X[outer, 1], \"ro\")\n",
    "plt.plot(X[inner, 0], X[inner, 1], \"bo\")\n",
    "plt.show()\n",
    "\n",
    "# Example of non-linearly separable data"
   ]
  },
  {
   "cell_type": "code",
   "execution_count": 4,
   "metadata": {},
   "outputs": [],
   "source": [
    "# We normalize the data to make sure the center of both circles is (1,1)\n",
    "\n",
    "X = X+1"
   ]
  },
  {
   "cell_type": "code",
   "execution_count": 5,
   "metadata": {},
   "outputs": [],
   "source": [
    "# To determine the performance of our algorithm we split our data\n",
    "\n",
    "X_train, X_val, y_train, y_val = train_test_split(X, y, test_size=0.2, random_state=SEED)"
   ]
  },
  {
   "cell_type": "code",
   "execution_count": 7,
   "metadata": {},
   "outputs": [],
   "source": [
    "# A linear activation function won't work in this case, so we'll be using a sigmoid function\n",
    "\n",
    "def sigmoid(x):\n",
    "    return 1 / (1 + np.exp(-x))"
   ]
  },
  {
   "cell_type": "code",
   "execution_count": 8,
   "metadata": {},
   "outputs": [],
   "source": [
    "# Next, we define the hyperparameters\n",
    "\n",
    "n_hidden = 50 # number of hidden units\n",
    "n_epochs = 1000\n",
    "learning_rate = 1"
   ]
  },
  {
   "cell_type": "code",
   "execution_count": 9,
   "metadata": {},
   "outputs": [
    {
     "name": "stdout",
     "output_type": "stream",
     "text": [
      "[[ 0.02973672  1.96873185  0.93716128  0.0819987  -0.79837987  0.27740856\n",
      "  -0.4596743  -1.81195114  0.97773437  0.13792823  1.04919979  1.12313636\n",
      "   0.54645529  1.34803925 -0.37544688 -0.39594891 -0.11535304 -0.80940096\n",
      "   0.02442926 -0.0294276   1.19911188 -0.63999054 -0.43657454  0.31780473\n",
      "  -1.18994763  0.42130269 -1.72468566  0.00305664  1.1584194   1.61009476\n",
      "   0.73057578 -0.12362306 -0.54981476 -0.15767085 -0.38813085  0.07245643\n",
      "  -0.83494441 -1.49298996 -0.56912016  0.10858602 -0.9901386   0.20305085\n",
      "   1.35810226  1.26967753 -0.02640194 -1.66815968 -0.77096094 -0.19153638\n",
      "   0.31275541  0.53289125]\n",
      " [-1.74694077  0.26134012 -0.5679315  -1.02333135  2.41133176 -2.07580204\n",
      "  -0.38638051 -0.02067128 -1.630263   -0.07095132  0.277637   -0.69544116\n",
      "   0.005967   -0.66555671 -0.39571363  1.24041821  0.95766917  0.55722341\n",
      "   2.07755315 -0.74686394  0.13342871  0.16699364  0.22174064  0.24573025\n",
      "   0.65691202  0.52981706 -0.74561458 -0.56056793 -0.90414802  0.22506549\n",
      "   0.02544763 -0.52518116  2.88516149 -1.09381278  0.56965977  1.69866694\n",
      "  -1.52241279 -0.88904716  2.69755564  0.47659497 -0.78195404 -0.17800343\n",
      "  -1.51950473 -1.03764734 -0.68126148 -0.23500285  0.14722801  0.56948459\n",
      "   0.31879038 -2.79069496]]\n",
      "[-1.32559509 -0.94890742 -0.48734605 -0.12847654  0.13353045  0.82164719\n",
      " -0.34220437  2.20296012 -0.11045796  1.97740563 -0.61523774  1.49014709\n",
      " -0.37892834  0.35684573 -0.12225135 -0.71685279 -0.92063636 -1.11823235\n",
      "  0.32702396 -0.02259835 -0.52249566 -0.8339961   0.52499036 -0.07477677\n",
      " -1.2812878   0.56122975  0.86892325  0.40485674  2.31354037 -1.26658939\n",
      " -1.70706723  0.44776776 -0.48763252 -0.81477601  1.18187371  0.98445988\n",
      " -0.47958423  0.12221789 -1.07721896  0.83313186  0.25029976  0.05867819\n",
      " -0.07216719 -0.69033052  1.60241142  0.05746941  0.81482978 -0.38102629\n",
      "  0.12411714  1.99820936]\n"
     ]
    }
   ],
   "source": [
    "# Initialize the weights and other variables\n",
    "\n",
    "# Initialise weights\n",
    "weights_hidden = np.random.normal(0.0, size=(X_train.shape[1], n_hidden))\n",
    "weights_output = np.random.normal(0.0, size=(n_hidden))\n",
    "\n",
    "hist_loss = []\n",
    "hist_accuracy = []\n",
    "print(weights_hidden)\n",
    "print(weights_output)"
   ]
  },
  {
   "cell_type": "code",
   "execution_count": 10,
   "metadata": {},
   "outputs": [
    {
     "name": "stdout",
     "output_type": "stream",
     "text": [
      "Epoch:     0 ; Validation loss:   0.348 ; Validation accuracy:   0.325\n",
      "Epoch:   100 ; Validation loss:  0.2211 ; Validation accuracy:   0.775\n",
      "Epoch:   200 ; Validation loss:  0.1781 ; Validation accuracy:  0.8125\n",
      "Epoch:   300 ; Validation loss:  0.1484 ; Validation accuracy:   0.825\n",
      "Epoch:   400 ; Validation loss:  0.1263 ; Validation accuracy:  0.8375\n",
      "Epoch:   500 ; Validation loss:  0.1094 ; Validation accuracy:     0.9\n",
      "Epoch:   600 ; Validation loss:  0.0963 ; Validation accuracy:   0.925\n",
      "Epoch:   700 ; Validation loss:  0.0861 ; Validation accuracy:  0.9375\n",
      "Epoch:   800 ; Validation loss:  0.0779 ; Validation accuracy:  0.9875\n",
      "Epoch:   900 ; Validation loss:  0.0713 ; Validation accuracy:  0.9875\n"
     ]
    }
   ],
   "source": [
    "# Run the single-layer neural network and output the statistics\n",
    "\n",
    "for e in range(n_epochs):\n",
    "    del_w_hidden = np.zeros(weights_hidden.shape)\n",
    "    del_w_output = np.zeros(weights_output.shape)\n",
    "\n",
    "    # Loop through training data in batches of 1\n",
    "    for x_, y_ in zip(X_train, y_train):\n",
    "        # Forward computations\n",
    "        hidden_input = np.dot(x_, weights_hidden)\n",
    "        hidden_output = sigmoid(hidden_input)\n",
    "        output = sigmoid(np.dot(hidden_output, weights_output))\n",
    "\n",
    "        # Backward computations\n",
    "        error = y_ - output\n",
    "        output_error = error * output * (1 - output)\n",
    "        hidden_error = np.dot(output_error, weights_output) * hidden_output * (1 - hidden_output)\n",
    "        del_w_output += output_error * hidden_output\n",
    "        del_w_hidden += hidden_error * x_[:, None]\n",
    "\n",
    "    # Update weights\n",
    "    weights_hidden += learning_rate * del_w_hidden / X_train.shape[0]\n",
    "    weights_output += learning_rate * del_w_output / X_train.shape[0]\n",
    "\n",
    "    # Print stats (validation loss and accuracy)\n",
    "    if e % 100 == 0:\n",
    "        hidden_output = sigmoid(np.dot(X_val, weights_hidden))\n",
    "        out = sigmoid(np.dot(hidden_output, weights_output))\n",
    "        loss = np.mean((out - y_val) ** 2)\n",
    "        # Final prediction is based on a threshold of 0.5\n",
    "        predictions = out > 0.5\n",
    "        accuracy = np.mean(predictions == y_val)\n",
    "        print(\"Epoch: \", '{:>4}'.format(e), \n",
    "            \"; Validation loss: \", '{:>6}'.format(loss.round(4)), \n",
    "            \"; Validation accuracy: \", '{:>6}'.format(accuracy.round(4)))"
   ]
  },
  {
   "cell_type": "code",
   "execution_count": null,
   "metadata": {},
   "outputs": [],
   "source": []
  }
 ],
 "metadata": {
  "kernelspec": {
   "display_name": "Python 3 (ipykernel)",
   "language": "python",
   "name": "python3"
  },
  "language_info": {
   "codemirror_mode": {
    "name": "ipython",
    "version": 3
   },
   "file_extension": ".py",
   "mimetype": "text/x-python",
   "name": "python",
   "nbconvert_exporter": "python",
   "pygments_lexer": "ipython3",
   "version": "3.9.7"
  },
  "widgets": {
   "state": {},
   "version": "1.1.2"
  }
 },
 "nbformat": 4,
 "nbformat_minor": 2
}
