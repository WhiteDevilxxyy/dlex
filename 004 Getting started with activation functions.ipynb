{
 "cells": [
  {
   "cell_type": "markdown",
   "metadata": {},
   "source": [
    "##### Getting started with activation functions\n",
    "\n",
    "If we only use linear activation functions, a neural network would represent a large collection of linear combinations. \n",
    "\n",
    "However, the power of neural networks lies in their ability to model complex nonlinear behavior. \n",
    "\n",
    "There are popular nonlinear activation functions, such as ELU, Leaky ReLU, TanH, and Maxout.\n",
    "\n",
    "There is no general rule as to which activation works best for the hidden units. \n",
    "\n",
    "Deep learning is a relatively new field and most results are obtained by trial and error instead of mathematical proofs. \n",
    "\n",
    "For the output unit, we use a single output unit and a linear activation function for regression tasks. \n",
    "\n",
    "For classification tasks with n classes, we use n output nodes and a softmax activation function. \n",
    "\n",
    "The softmax function forces the network to output probabilities between 0 and 1 for mutually exclusive classes and the probabilities sum up to 1. \n",
    "\n",
    "For binary classification, we can also use a single output node and a sigmoid activation function to output probabilities.\n",
    "\n",
    "Choosing the correct activation function for the hidden units can be crucial. \n",
    "\n",
    "In the backward pass, the updates are dependent on the derivative of the activation function. \n",
    "\n",
    "For deep neural networks, the gradients of the updated weights can go to zero in the first couple of\n",
    "layers (also known as the vanishing gradients problem) or can grow exponentially big (also known as the exploding gradients problem).\n",
    "\n",
    "This holds especially when activation functions have a derivative that only takes on small values (for example the sigmoid activation function) or activation functions that have a derivative that can take values that are larger than 1.\n",
    "\n",
    "Activation functions such as the ReLU prevents such cases. \n",
    "The ReLU has a derivative of 1 when the output is positive and is 0 otherwise. \n",
    "\n",
    "When using a ReLU activation function, a sparse network is generated with a relatively small number of activated connections.\n",
    "\n",
    "The loss that is passed through the network seems more useful in such cases. \n",
    "\n",
    "In some cases, the ReLU causes too many of the neurons to die; in such cases, you should try a variant such as Leaky ReLU. \n",
    "\n",
    "We will compare the difference in results between a sigmoid and a ReLU activation function when classifying handwritten digits with a deep FNN."
   ]
  },
  {
   "cell_type": "code",
   "execution_count": 2,
   "metadata": {},
   "outputs": [],
   "source": [
    "# Import the libraries as follows\n",
    "\n",
    "import numpy as np \n",
    "import pandas as pd\n",
    "from sklearn.model_selection import train_test_split\n",
    "import matplotlib.pyplot as plt\n",
    "\n",
    "from keras.models import Sequential\n",
    "from keras.layers import Dense\n",
    "from tensorflow.keras.utils import to_categorical\n",
    "from keras.callbacks import Callback\n",
    "\n",
    "from keras.datasets import mnist\n",
    "\n",
    "SEED = 2022"
   ]
  },
  {
   "cell_type": "code",
   "execution_count": 3,
   "metadata": {},
   "outputs": [
    {
     "name": "stdout",
     "output_type": "stream",
     "text": [
      "Downloading data from https://storage.googleapis.com/tensorflow/tf-keras-datasets/mnist.npz\n",
      "11493376/11490434 [==============================] - 6s 1us/step\n",
      "11501568/11490434 [==============================] - 6s 1us/step\n"
     ]
    }
   ],
   "source": [
    "# Load the MNIST dataset\n",
    "# Need Internet Connection to download dataset\n",
    "\n",
    "(X_train, y_train), (X_val, y_val) = mnist.load_data()"
   ]
  },
  {
   "cell_type": "code",
   "execution_count": 4,
   "metadata": {},
   "outputs": [
    {
     "data": {
      "image/png": "[encoded data removed]",
      "text/plain": [
       "<Figure size 864x864 with 10 Axes>"
      ]
     },
     "metadata": {
      "needs_background": "light"
     },
     "output_type": "display_data"
    }
   ],
   "source": [
    "# Show an example of each label and print the count per label\n",
    "# Plot first image of each label\n",
    "unique_labels = set(y_train)\n",
    "plt.figure(figsize=(12, 12))\n",
    "\n",
    "i = 1\n",
    "for label in unique_labels:\n",
    "    image = X_train[y_train.tolist().index(label)]\n",
    "    plt.subplot(10, 10, i)\n",
    "    plt.axis('off')\n",
    "    plt.title(\"{0}: ({1})\".format(label, y_train.tolist().count(label)))\n",
    "    i += 1\n",
    "    _ = plt.imshow(image, cmap='gray')\n",
    "plt.show()"
   ]
  },
  {
   "cell_type": "code",
   "execution_count": 9,
   "metadata": {},
   "outputs": [
    {
     "name": "stdout",
     "output_type": "stream",
     "text": [
      "[[[0 0 0 ... 0 0 0]\n",
      "  [0 0 0 ... 0 0 0]\n",
      "  [0 0 0 ... 0 0 0]\n",
      "  ...\n",
      "  [0 0 0 ... 0 0 0]\n",
      "  [0 0 0 ... 0 0 0]\n",
      "  [0 0 0 ... 0 0 0]]\n",
      "\n",
      " [[0 0 0 ... 0 0 0]\n",
      "  [0 0 0 ... 0 0 0]\n",
      "  [0 0 0 ... 0 0 0]\n",
      "  ...\n",
      "  [0 0 0 ... 0 0 0]\n",
      "  [0 0 0 ... 0 0 0]\n",
      "  [0 0 0 ... 0 0 0]]\n",
      "\n",
      " [[0 0 0 ... 0 0 0]\n",
      "  [0 0 0 ... 0 0 0]\n",
      "  [0 0 0 ... 0 0 0]\n",
      "  ...\n",
      "  [0 0 0 ... 0 0 0]\n",
      "  [0 0 0 ... 0 0 0]\n",
      "  [0 0 0 ... 0 0 0]]\n",
      "\n",
      " ...\n",
      "\n",
      " [[0 0 0 ... 0 0 0]\n",
      "  [0 0 0 ... 0 0 0]\n",
      "  [0 0 0 ... 0 0 0]\n",
      "  ...\n",
      "  [0 0 0 ... 0 0 0]\n",
      "  [0 0 0 ... 0 0 0]\n",
      "  [0 0 0 ... 0 0 0]]\n",
      "\n",
      " [[0 0 0 ... 0 0 0]\n",
      "  [0 0 0 ... 0 0 0]\n",
      "  [0 0 0 ... 0 0 0]\n",
      "  ...\n",
      "  [0 0 0 ... 0 0 0]\n",
      "  [0 0 0 ... 0 0 0]\n",
      "  [0 0 0 ... 0 0 0]]\n",
      "\n",
      " [[0 0 0 ... 0 0 0]\n",
      "  [0 0 0 ... 0 0 0]\n",
      "  [0 0 0 ... 0 0 0]\n",
      "  ...\n",
      "  [0 0 0 ... 0 0 0]\n",
      "  [0 0 0 ... 0 0 0]\n",
      "  [0 0 0 ... 0 0 0]]]\n",
      "[7 2 1 ... 4 5 6]\n"
     ]
    }
   ],
   "source": [
    "print(X_val)\n",
    "print(y_val)"
   ]
  },
  {
   "cell_type": "code",
   "execution_count": 10,
   "metadata": {},
   "outputs": [],
   "source": [
    "# Preprocess the data\n",
    "# Normalize data\n",
    "X_train = X_train.astype('float32')/255.\n",
    "X_val = X_val.astype('float32')/255."
   ]
  },
  {
   "cell_type": "code",
   "execution_count": 11,
   "metadata": {},
   "outputs": [
    {
     "data": {
      "text/plain": [
       "array([[[0., 0., 0., ..., 0., 0., 0.],\n",
       "        [0., 0., 0., ..., 0., 0., 0.],\n",
       "        [0., 0., 0., ..., 0., 0., 0.],\n",
       "        ...,\n",
       "        [0., 0., 0., ..., 0., 0., 0.],\n",
       "        [0., 0., 0., ..., 0., 0., 0.],\n",
       "        [0., 0., 0., ..., 0., 0., 0.]],\n",
       "\n",
       "       [[0., 0., 0., ..., 0., 0., 0.],\n",
       "        [0., 0., 0., ..., 0., 0., 0.],\n",
       "        [0., 0., 0., ..., 0., 0., 0.],\n",
       "        ...,\n",
       "        [0., 0., 0., ..., 0., 0., 0.],\n",
       "        [0., 0., 0., ..., 0., 0., 0.],\n",
       "        [0., 0., 0., ..., 0., 0., 0.]],\n",
       "\n",
       "       [[0., 0., 0., ..., 0., 0., 0.],\n",
       "        [0., 0., 0., ..., 0., 0., 0.],\n",
       "        [0., 0., 0., ..., 0., 0., 0.],\n",
       "        ...,\n",
       "        [0., 0., 0., ..., 0., 0., 0.],\n",
       "        [0., 0., 0., ..., 0., 0., 0.],\n",
       "        [0., 0., 0., ..., 0., 0., 0.]],\n",
       "\n",
       "       ...,\n",
       "\n",
       "       [[0., 0., 0., ..., 0., 0., 0.],\n",
       "        [0., 0., 0., ..., 0., 0., 0.],\n",
       "        [0., 0., 0., ..., 0., 0., 0.],\n",
       "        ...,\n",
       "        [0., 0., 0., ..., 0., 0., 0.],\n",
       "        [0., 0., 0., ..., 0., 0., 0.],\n",
       "        [0., 0., 0., ..., 0., 0., 0.]],\n",
       "\n",
       "       [[0., 0., 0., ..., 0., 0., 0.],\n",
       "        [0., 0., 0., ..., 0., 0., 0.],\n",
       "        [0., 0., 0., ..., 0., 0., 0.],\n",
       "        ...,\n",
       "        [0., 0., 0., ..., 0., 0., 0.],\n",
       "        [0., 0., 0., ..., 0., 0., 0.],\n",
       "        [0., 0., 0., ..., 0., 0., 0.]],\n",
       "\n",
       "       [[0., 0., 0., ..., 0., 0., 0.],\n",
       "        [0., 0., 0., ..., 0., 0., 0.],\n",
       "        [0., 0., 0., ..., 0., 0., 0.],\n",
       "        ...,\n",
       "        [0., 0., 0., ..., 0., 0., 0.],\n",
       "        [0., 0., 0., ..., 0., 0., 0.],\n",
       "        [0., 0., 0., ..., 0., 0., 0.]]], dtype=float32)"
      ]
     },
     "execution_count": 11,
     "metadata": {},
     "output_type": "execute_result"
    }
   ],
   "source": [
    "X_val"
   ]
  },
  {
   "cell_type": "code",
   "execution_count": 12,
   "metadata": {},
   "outputs": [],
   "source": [
    "# One-Hot-Encode labels\n",
    "n_classes = 10\n",
    "y_train = to_categorical(y_train, n_classes)\n",
    "y_val = to_categorical(y_val, n_classes)"
   ]
  },
  {
   "cell_type": "code",
   "execution_count": 14,
   "metadata": {},
   "outputs": [
    {
     "name": "stdout",
     "output_type": "stream",
     "text": [
      "[[0. 0. 0. ... 0. 0. 0.]\n",
      " [1. 0. 0. ... 0. 0. 0.]\n",
      " [0. 0. 0. ... 0. 0. 0.]\n",
      " ...\n",
      " [0. 0. 0. ... 0. 0. 0.]\n",
      " [0. 0. 0. ... 0. 0. 0.]\n",
      " [0. 0. 0. ... 0. 1. 0.]]\n"
     ]
    }
   ],
   "source": [
    "print(y_train)"
   ]
  },
  {
   "cell_type": "code",
   "execution_count": 15,
   "metadata": {},
   "outputs": [],
   "source": [
    "# Flatten data - we treat the image as a sequential array of values\n",
    "X_train = np.reshape(X_train, (60000, 784))\n",
    "X_val = np.reshape(X_val, (10000, 784))"
   ]
  },
  {
   "cell_type": "code",
   "execution_count": 17,
   "metadata": {},
   "outputs": [
    {
     "data": {
      "text/plain": [
       "array([[0., 0., 0., ..., 0., 0., 0.],\n",
       "       [0., 0., 0., ..., 0., 0., 0.],\n",
       "       [0., 0., 0., ..., 0., 0., 0.],\n",
       "       ...,\n",
       "       [0., 0., 0., ..., 0., 0., 0.],\n",
       "       [0., 0., 0., ..., 0., 0., 0.],\n",
       "       [0., 0., 0., ..., 0., 0., 0.]], dtype=float32)"
      ]
     },
     "execution_count": 17,
     "metadata": {},
     "output_type": "execute_result"
    }
   ],
   "source": [
    "X_train"
   ]
  },
  {
   "cell_type": "code",
   "execution_count": 21,
   "metadata": {},
   "outputs": [],
   "source": [
    "# Define the model with the sigmoid activation function\n",
    "\n",
    "model_sigmoid = Sequential()\n",
    "model_sigmoid.add(Dense(700, input_dim=784, activation='sigmoid'))\n",
    "model_sigmoid.add(Dense(700, activation='sigmoid'))\n",
    "model_sigmoid.add(Dense(700, activation='sigmoid'))\n",
    "model_sigmoid.add(Dense(700, activation='sigmoid'))\n",
    "model_sigmoid.add(Dense(700, activation='sigmoid')) \n",
    "model_sigmoid.add(Dense(350, activation='sigmoid')) \n",
    "model_sigmoid.add(Dense(100, activation='sigmoid')) \n",
    "model_sigmoid.add(Dense(10, activation='softmax'))\n",
    "\n",
    "# Compile model with SGD\n",
    "model_sigmoid.compile(loss='categorical_crossentropy', optimizer='sgd', metrics=['accuracy'])"
   ]
  },
  {
   "cell_type": "code",
   "execution_count": 22,
   "metadata": {},
   "outputs": [],
   "source": [
    "# Define the model with the ReLU activation function\n",
    "\n",
    "model_relu = Sequential()\n",
    "model_relu.add(Dense(700, input_dim=784, activation='relu'))\n",
    "model_relu.add(Dense(700, activation='relu'))\n",
    "model_relu.add(Dense(700, activation='relu'))\n",
    "model_relu.add(Dense(700, activation='relu'))\n",
    "model_relu.add(Dense(700, activation='relu')) \n",
    "model_relu.add(Dense(350, activation='relu')) \n",
    "model_relu.add(Dense(100, activation='relu')) \n",
    "model_relu.add(Dense(10, activation='softmax'))\n",
    "\n",
    "# Compile model with SGD\n",
    "model_relu.compile(loss='categorical_crossentropy', optimizer='sgd', metrics=['accuracy'])"
   ]
  },
  {
   "cell_type": "code",
   "execution_count": 23,
   "metadata": {},
   "outputs": [],
   "source": [
    "# Create a callback function to store the loss values per batch\n",
    "\n",
    "class history_loss(Callback):\n",
    "    def on_train_begin(self, logs={}):\n",
    "        self.losses = []\n",
    "\n",
    "    def on_batch_end(self, batch, logs={}):\n",
    "        batch_loss = logs.get('loss')\n",
    "        self.losses.append(batch_loss)"
   ]
  },
  {
   "cell_type": "code",
   "execution_count": 24,
   "metadata": {
    "scrolled": false
   },
   "outputs": [
    {
     "name": "stdout",
     "output_type": "stream",
     "text": [
      "Epoch 1/10\n",
      "188/188 - 8s - loss: 2.3263 - accuracy: 0.1107 - val_loss: 2.3025 - val_accuracy: 0.1060 - 8s/epoch - 40ms/step\n",
      "Epoch 2/10\n",
      "188/188 - 6s - loss: 2.3015 - accuracy: 0.1140 - val_loss: 2.3031 - val_accuracy: 0.1060 - 6s/epoch - 32ms/step\n",
      "Epoch 3/10\n",
      "188/188 - 6s - loss: 2.3013 - accuracy: 0.1138 - val_loss: 2.3022 - val_accuracy: 0.1060 - 6s/epoch - 33ms/step\n",
      "Epoch 4/10\n",
      "188/188 - 7s - loss: 2.3014 - accuracy: 0.1140 - val_loss: 2.3021 - val_accuracy: 0.1060 - 7s/epoch - 36ms/step\n",
      "Epoch 5/10\n",
      "188/188 - 7s - loss: 2.3014 - accuracy: 0.1140 - val_loss: 2.3019 - val_accuracy: 0.1060 - 7s/epoch - 37ms/step\n",
      "Epoch 6/10\n",
      "188/188 - 7s - loss: 2.3013 - accuracy: 0.1133 - val_loss: 2.3025 - val_accuracy: 0.1060 - 7s/epoch - 36ms/step\n",
      "Epoch 7/10\n",
      "188/188 - 7s - loss: 2.3014 - accuracy: 0.1140 - val_loss: 2.3024 - val_accuracy: 0.1060 - 7s/epoch - 37ms/step\n",
      "Epoch 8/10\n",
      "188/188 - 7s - loss: 2.3015 - accuracy: 0.1140 - val_loss: 2.3020 - val_accuracy: 0.1060 - 7s/epoch - 36ms/step\n",
      "Epoch 9/10\n",
      "188/188 - 7s - loss: 2.3014 - accuracy: 0.1140 - val_loss: 2.3027 - val_accuracy: 0.1060 - 7s/epoch - 37ms/step\n",
      "Epoch 10/10\n",
      "188/188 - 7s - loss: 2.3014 - accuracy: 0.1140 - val_loss: 2.3025 - val_accuracy: 0.1060 - 7s/epoch - 39ms/step\n"
     ]
    },
    {
     "data": {
      "text/plain": [
       "<keras.callbacks.History at 0x1ed8155dfa0>"
      ]
     },
     "execution_count": 24,
     "metadata": {},
     "output_type": "execute_result"
    }
   ],
   "source": [
    "n_epochs = 10\n",
    "batch_size = 256\n",
    "validation_split = 0.2\n",
    "\n",
    "history_sigmoid = history_loss()\n",
    "model_sigmoid.fit(X_train, y_train, epochs=n_epochs, batch_size=batch_size,\n",
    " callbacks=[history_sigmoid],\n",
    " validation_split=validation_split, verbose=2)"
   ]
  },
  {
   "cell_type": "code",
   "execution_count": 25,
   "metadata": {},
   "outputs": [
    {
     "name": "stdout",
     "output_type": "stream",
     "text": [
      "Epoch 1/10\n",
      "188/188 - 6s - loss: 2.1943 - accuracy: 0.3743 - val_loss: 1.9558 - val_accuracy: 0.6586 - 6s/epoch - 32ms/step\n",
      "Epoch 2/10\n",
      "188/188 - 6s - loss: 1.2665 - accuracy: 0.7271 - val_loss: 0.6939 - val_accuracy: 0.8054 - 6s/epoch - 34ms/step\n",
      "Epoch 3/10\n",
      "188/188 - 7s - loss: 0.5687 - accuracy: 0.8340 - val_loss: 0.4863 - val_accuracy: 0.8581 - 7s/epoch - 36ms/step\n",
      "Epoch 4/10\n",
      "188/188 - 7s - loss: 0.4149 - accuracy: 0.8801 - val_loss: 0.3435 - val_accuracy: 0.9028 - 7s/epoch - 36ms/step\n",
      "Epoch 5/10\n",
      "188/188 - 7s - loss: 0.3441 - accuracy: 0.9004 - val_loss: 0.3106 - val_accuracy: 0.9113 - 7s/epoch - 37ms/step\n",
      "Epoch 6/10\n",
      "188/188 - 6s - loss: 0.3001 - accuracy: 0.9117 - val_loss: 0.2753 - val_accuracy: 0.9205 - 6s/epoch - 34ms/step\n",
      "Epoch 7/10\n",
      "188/188 - 7s - loss: 0.2722 - accuracy: 0.9203 - val_loss: 0.2830 - val_accuracy: 0.9125 - 7s/epoch - 36ms/step\n",
      "Epoch 8/10\n",
      "188/188 - 7s - loss: 0.2479 - accuracy: 0.9276 - val_loss: 0.2323 - val_accuracy: 0.9328 - 7s/epoch - 36ms/step\n",
      "Epoch 9/10\n",
      "188/188 - 6s - loss: 0.2276 - accuracy: 0.9337 - val_loss: 0.2087 - val_accuracy: 0.9408 - 6s/epoch - 34ms/step\n",
      "Epoch 10/10\n",
      "188/188 - 7s - loss: 0.2097 - accuracy: 0.9384 - val_loss: 0.2076 - val_accuracy: 0.9406 - 7s/epoch - 36ms/step\n"
     ]
    },
    {
     "data": {
      "text/plain": [
       "<keras.callbacks.History at 0x1ed819a9280>"
      ]
     },
     "execution_count": 25,
     "metadata": {},
     "output_type": "execute_result"
    }
   ],
   "source": [
    "history_relu = history_loss()\n",
    "model_relu.fit(X_train, y_train, epochs=n_epochs, batch_size=batch_size,\n",
    " callbacks=[history_relu],\n",
    " validation_split=validation_split, verbose=2)"
   ]
  },
  {
   "cell_type": "code",
   "execution_count": 30,
   "metadata": {},
   "outputs": [
    {
     "name": "stdout",
     "output_type": "stream",
     "text": [
      "[2.6210203170776367, 2.5942976474761963, 2.6057965755462646, 2.574885845184326, 2.5738797187805176, 2.555206775665283, 2.5534329414367676, 2.5391054153442383, 2.534047842025757, 2.527390718460083, 2.523709297180176, 2.522097587585449, 2.518706798553467, 2.5143024921417236, 2.5037379264831543, 2.497654914855957, 2.492823839187622, 2.485025644302368, 2.477459669113159, 2.471857786178589, 2.4663944244384766, 2.4599320888519287, 2.456411838531494, 2.454061269760132, 2.4513657093048096, 2.4500467777252197, 2.4458372592926025, 2.441748857498169, 2.438324451446533, 2.43487548828125, 2.4319980144500732, 2.4290199279785156, 2.4266903400421143, 2.423189163208008, 2.421160936355591, 2.41867733001709, 2.4172444343566895, 2.4149837493896484, 2.412597179412842, 2.4100708961486816, 2.4080872535705566, 2.4058358669281006, 2.403578281402588, 2.402052164077759, 2.400322675704956, 2.398632764816284, 2.396733283996582, 2.394820213317871, 2.393251895904541, 2.3916146755218506, 2.3903632164001465, 2.3885984420776367, 2.387079954147339, 2.3856565952301025, 2.3842203617095947, 2.3833260536193848, 2.3822999000549316, 2.381138563156128, 2.3799502849578857, 2.3792145252227783, 2.3780109882354736, 2.3768749237060547, 2.37564754486084, 2.3745954036712646, 2.373504400253296, 2.372467279434204, 2.371464967727661, 2.3703408241271973, 2.369351863861084, 2.3683266639709473, 2.367509126663208, 2.3666129112243652, 2.365708589553833, 2.3648664951324463, 2.363922119140625, 2.3631083965301514, 2.362309455871582, 2.361482858657837, 2.360865831375122, 2.3601150512695312, 2.3595240116119385, 2.358773708343506, 2.3580338954925537, 2.357241153717041, 2.3564646244049072, 2.3558108806610107, 2.355151653289795, 2.3544869422912598, 2.353835344314575, 2.3532910346984863, 2.3527228832244873, 2.352149724960327, 2.3515799045562744, 2.3510797023773193, 2.350557565689087, 2.3499646186828613, 2.349468231201172, 2.348982572555542, 2.3485209941864014, 2.348022699356079, 2.347586154937744, 2.347102642059326, 2.3467013835906982, 2.346193552017212, 2.345792531967163, 2.3453798294067383, 2.3449184894561768, 2.3445863723754883, 2.3442697525024414, 2.343872547149658, 2.3434998989105225, 2.3432364463806152, 2.3428454399108887, 2.342414140701294, 2.3420968055725098, 2.3417303562164307, 2.3413808345794678, 2.3410322666168213, 2.3407700061798096, 2.3404154777526855, 2.340113401412964, 2.339768886566162, 2.3394055366516113, 2.339149236679077, 2.3389081954956055, 2.338583469390869, 2.3382811546325684, 2.3379650115966797, 2.337679624557495, 2.3373663425445557, 2.337106466293335, 2.3368334770202637, 2.33648681640625, 2.336207866668701, 2.335892915725708, 2.3356542587280273, 2.3353919982910156, 2.3351573944091797, 2.33498215675354, 2.3347432613372803, 2.3345370292663574, 2.3343305587768555, 2.3340368270874023, 2.3338210582733154, 2.3335859775543213, 2.3333799839019775, 2.333155632019043, 2.332951307296753, 2.3327908515930176, 2.332578659057617, 2.332361936569214, 2.3321683406829834, 2.3319547176361084, 2.331760883331299, 2.3315622806549072, 2.3313658237457275, 2.331157684326172, 2.330928325653076, 2.330753803253174, 2.330557346343994, 2.3303468227386475, 2.330174446105957, 2.330005168914795, 2.3297946453094482, 2.329651355743408, 2.3294708728790283, 2.32928729057312, 2.32914137840271, 2.328948974609375, 2.3288168907165527, 2.3286654949188232, 2.3285059928894043, 2.3283498287200928, 2.3281972408294678, 2.328059434890747, 2.3279049396514893, 2.327749013900757, 2.327585458755493, 2.3274707794189453, 2.32733416557312, 2.3272056579589844, 2.3270533084869385, 2.326913833618164, 2.3267459869384766, 2.3266103267669678, 2.3265085220336914, 2.3263659477233887, 2.3263096809387207, 2.303061008453369, 2.2995011806488037, 2.300922155380249, 2.299023151397705, 2.2999427318573, 2.301175355911255, 2.301481008529663, 2.3015849590301514, 2.301454782485962, 2.3014843463897705, 2.3013687133789062, 2.301480293273926, 2.30159592628479, 2.300868272781372, 2.300879955291748, 2.301206588745117, 2.301072597503662, 2.3012139797210693, 2.301312208175659, 2.30159330368042, 2.30134916305542, 2.3016462326049805, 2.3016953468322754, 2.301571846008301, 2.3015785217285156, 2.301593542098999, 2.30153489112854, 2.3014962673187256, 2.301457166671753, 2.3015637397766113, 2.3016581535339355, 2.301675319671631, 2.3016746044158936, 2.301628589630127, 2.3016445636749268, 2.30151629447937, 2.3015007972717285, 2.3014800548553467, 2.3014626502990723, 2.301485300064087, 2.3014206886291504, 2.301617383956909, 2.301678419113159, 2.3015365600585938, 2.3015363216400146, 2.3014605045318604, 2.3015084266662598, 2.301539182662964, 2.301558017730713, 2.3014726638793945, 2.3014888763427734, 2.3015763759613037, 2.301661729812622, 2.3017101287841797, 2.3016040325164795, 2.301652431488037, 2.301722764968872, 2.3017759323120117, 2.3017032146453857, 2.3017735481262207, 2.301703929901123, 2.301677942276001, 2.3015847206115723, 2.301635503768921, 2.3016560077667236, 2.3016035556793213, 2.301712989807129, 2.3017215728759766, 2.3016581535339355, 2.3016433715820312, 2.301649570465088, 2.301567792892456, 2.301560401916504, 2.3014724254608154, 2.30145001411438, 2.3014609813690186, 2.3015401363372803, 2.301469326019287, 2.3014533519744873, 2.3013620376586914, 2.3013038635253906, 2.3012912273406982, 2.3012378215789795, 2.3012332916259766, 2.3012285232543945, 2.3011724948883057, 2.301318645477295, 2.3013665676116943, 2.301449775695801, 2.301408290863037, 2.3014345169067383, 2.3013601303100586, 2.3014445304870605, 2.301431655883789, 2.301415205001831, 2.301373243331909, 2.3013265132904053, 2.301342010498047, 2.301377534866333, 2.3014073371887207, 2.30145001411438, 2.301481246948242, 2.3015754222869873, 2.301525592803955, 2.301514148712158, 2.3015286922454834, 2.3015708923339844, 2.3015501499176025, 2.3015692234039307, 2.301535129547119, 2.301555633544922, 2.301586866378784, 2.3015658855438232, 2.3015499114990234, 2.3015410900115967, 2.3015646934509277, 2.3015639781951904, 2.3015379905700684, 2.3015801906585693, 2.3015663623809814, 2.301539659500122, 2.301525831222534, 2.3015129566192627, 2.3015079498291016, 2.30149245262146, 2.301464796066284, 2.3014333248138428, 2.301426649093628, 2.301464557647705, 2.301427125930786, 2.301389694213867, 2.3013641834259033, 2.3013522624969482, 2.3013434410095215, 2.301391124725342, 2.3013863563537598, 2.301414966583252, 2.301457166671753, 2.301445960998535, 2.3015167713165283, 2.3014791011810303, 2.301455020904541, 2.301429271697998, 2.301434278488159, 2.3014028072357178, 2.3014230728149414, 2.30141544342041, 2.301421642303467, 2.301426649093628, 2.301417112350464, 2.3014612197875977, 2.301490068435669, 2.301480770111084, 2.3014516830444336, 2.3014678955078125, 2.3014514446258545, 2.3014352321624756, 2.301474094390869, 2.3014657497406006, 2.3014841079711914, 2.3015267848968506, 2.301525831222534, 2.3015503883361816, 2.301530599594116, 2.301529884338379, 2.301562547683716, 2.3015332221984863, 2.301574945449829, 2.301591157913208, 2.3015763759613037, 2.3015329837799072, 2.301532506942749, 2.301530122756958, 2.301539659500122, 2.3015048503875732, 2.301511287689209, 2.3014848232269287, 2.3014819622039795, 2.301487684249878, 2.301478624343872, 2.301517963409424, 2.3015363216400146, 2.3014707565307617, 2.3015024662017822, 2.30147647857666, 2.301464080810547, 2.3014562129974365, 2.301456928253174, 2.300100803375244, 2.2978146076202393, 2.298128366470337, 2.300302743911743, 2.2984185218811035, 2.3004281520843506, 2.2991249561309814, 2.299290180206299, 2.3002328872680664, 2.300455093383789, 2.3005456924438477, 2.3013079166412354, 2.3018853664398193, 2.3016645908355713, 2.3017213344573975, 2.3014330863952637, 2.3012163639068604, 2.3010454177856445, 2.3010380268096924, 2.300924062728882, 2.3011972904205322, 2.3013668060302734, 2.3012027740478516, 2.3011813163757324, 2.3009531497955322, 2.30119252204895, 2.3010077476501465, 2.301217555999756, 2.3011553287506104, 2.301189661026001, 2.3011374473571777, 2.3011205196380615, 2.301158905029297, 2.3010787963867188, 2.3008761405944824, 2.3009183406829834, 2.30108380317688, 2.301055908203125, 2.301068067550659, 2.3011698722839355, 2.301218271255493, 2.301121234893799, 2.3010754585266113, 2.3010213375091553, 2.3009142875671387, 2.3010528087615967, 2.30106782913208, 2.3011319637298584, 2.301166534423828, 2.3011999130249023, 2.3011882305145264, 2.301280975341797, 2.3011770248413086, 2.3011908531188965, 2.301361560821533, 2.301319122314453, 2.3012986183166504, 2.3013014793395996, 2.301281213760376, 2.3013999462127686, 2.3014979362487793, 2.3014304637908936, 2.3015124797821045, 2.301455020904541, 2.301429271697998, 2.3015148639678955, 2.301435708999634, 2.301332712173462, 2.301307201385498, 2.3012783527374268, 2.3012282848358154, 2.3011960983276367, 2.301292657852173, 2.3012819290161133, 2.3010993003845215, 2.3010785579681396, 2.301079273223877, 2.301095962524414, 2.301077365875244, 2.301170825958252, 2.301177501678467, 2.3012397289276123, 2.3013269901275635, 2.3012783527374268, 2.301252841949463, 2.3012170791625977, 2.3012115955352783, 2.301180839538574, 2.30121111869812, 2.301234483718872, 2.301219940185547, 2.3011634349823, 2.3010988235473633, 2.3011045455932617, 2.30108904838562, 2.301130533218384, 2.301081895828247, 2.301161050796509, 2.3012170791625977, 2.3012843132019043, 2.3013222217559814, 2.3013644218444824, 2.3013880252838135, 2.3013646602630615, 2.3013968467712402, 2.3013949394226074, 2.3013648986816406, 2.301374673843384, 2.301340341567993, 2.3013463020324707, 2.3013486862182617, 2.3013930320739746, 2.301400899887085, 2.301377296447754, 2.301374673843384, 2.301393508911133, 2.3014376163482666, 2.3014843463897705, 2.3014562129974365, 2.3014259338378906, 2.301459550857544, 2.3014698028564453, 2.3014867305755615, 2.3014962673187256, 2.3015103340148926, 2.301565647125244, 2.301581382751465, 2.3015480041503906, 2.3015294075012207, 2.3015284538269043, 2.301572561264038, 2.301523447036743, 2.3015451431274414, 2.3014976978302, 2.3015077114105225, 2.301548957824707, 2.301530599594116, 2.3015339374542236, 2.3014981746673584, 2.301485538482666, 2.301499366760254, 2.3014943599700928, 2.301478147506714, 2.30142879486084, 2.3013970851898193, 2.3014018535614014, 2.3014440536499023, 2.301445245742798, 2.301408290863037, 2.3014025688171387, 2.3014373779296875, 2.301424026489258, 2.301420211791992, 2.301447868347168, 2.3014347553253174, 2.3013968467712402, 2.3014185428619385, 2.3014256954193115, 2.3014614582061768, 2.301469326019287, 2.3014702796936035, 2.301431179046631, 2.301412582397461, 2.3013744354248047, 2.301377058029175, 2.3013906478881836, 2.3013815879821777, 2.3014187812805176, 2.3013904094696045, 2.301340341567993, 2.301353693008423, 2.3013508319854736, 2.3013484477996826, 2.301412343978882, 2.3013672828674316, 2.301344633102417, 2.3013250827789307, 2.301342487335205, 2.3013556003570557, 2.301391124725342, 2.301391363143921, 2.3013925552368164, 2.301360607147217, 2.301363468170166, 2.3013856410980225, 2.3013839721679688, 2.3013644218444824, 2.3013405799865723, 2.3025715351104736, 2.302222728729248, 2.2980895042419434, 2.2994885444641113, 2.299126148223877, 2.2990174293518066, 2.29931640625, 2.299495220184326, 2.2998547554016113, 2.2998459339141846, 2.3000993728637695, 2.3011178970336914, 2.301365613937378, 2.3008077144622803, 2.300572395324707, 2.3006560802459717, 2.3009228706359863, 2.3012592792510986, 2.301274299621582, 2.3008928298950195, 2.3009161949157715, 2.3011815547943115, 2.301084518432617, 2.300997495651245, 2.3010332584381104, 2.3011326789855957, 2.3012659549713135, 2.301581621170044, 2.3016505241394043, 2.301527976989746, 2.301614284515381, 2.301774501800537, 2.301720142364502, 2.3017263412475586, 2.3015644550323486, 2.3016576766967773, 2.3017003536224365, 2.301734447479248, 2.3017139434814453, 2.3018550872802734, 2.3017659187316895, 2.301816940307617, 2.3019814491271973, 2.302008628845215, 2.3019959926605225, 2.3020412921905518, 2.302060127258301, 2.3020541667938232, 2.302097797393799, 2.302025079727173, 2.301940679550171, 2.3019156455993652, 2.30191707611084, 2.301870346069336, 2.3018510341644287, 2.301832675933838, 2.3019492626190186, 2.3019936084747314, 2.301872968673706, 2.301819324493408, 2.3018321990966797, 2.3019275665283203, 2.3019256591796875, 2.301947832107544, 2.3019473552703857, 2.3019120693206787, 2.301943063735962, 2.3019251823425293, 2.301987648010254, 2.3019602298736572, 2.301980972290039, 2.3019168376922607, 2.3019509315490723, 2.3019444942474365, 2.3020172119140625, 2.30198073387146, 2.301927328109741, 2.3019518852233887, 2.30188250541687, 2.301931142807007, 2.301842212677002, 2.3018860816955566, 2.301915407180786, 2.3018851280212402, 2.3018717765808105, 2.301884412765503, 2.3018321990966797, 2.3018105030059814, 2.3017969131469727, 2.3018317222595215, 2.301845073699951, 2.3018648624420166, 2.301823377609253, 2.301725149154663, 2.3017826080322266, 2.3017208576202393, 2.3016650676727295, 2.3016750812530518, 2.3016855716705322, 2.301633834838867, 2.301588535308838, 2.3015949726104736, 2.3015670776367188, 2.301581621170044, 2.3015871047973633, 2.301579236984253, 2.3015928268432617, 2.301542282104492, 2.301504611968994, 2.3015329837799072, 2.3015029430389404, 2.301502227783203, 2.3014633655548096, 2.3014965057373047, 2.301525592803955, 2.30155086517334, 2.3015573024749756, 2.3015007972717285, 2.3015353679656982, 2.301497220993042, 2.3014779090881348, 2.301499843597412, 2.3014957904815674, 2.301511764526367, 2.3014659881591797, 2.30141019821167, 2.301421880722046, 2.301469564437866, 2.301455497741699, 2.3014919757843018, 2.301456928253174, 2.3014395236968994, 2.3014333248138428, 2.30143666267395, 2.301459789276123, 2.301466941833496, 2.3014471530914307, 2.3014445304870605, 2.3014185428619385, 2.3013641834259033, 2.3013854026794434, 2.301375150680542, 2.301396369934082, 2.3013830184936523, 2.3013756275177, 2.301342248916626, 2.301400661468506, 2.3013617992401123, 2.3014049530029297, 2.301405191421509, 2.301398515701294, 2.3013360500335693, 2.301330089569092, 2.301360607147217, 2.301379442214966, 2.3014132976531982, 2.3014323711395264, 2.301424741744995, 2.301469326019287, 2.3015060424804688, 2.3015224933624268, 2.301487922668457, 2.3014914989471436, 2.301473379135132, 2.3014626502990723, 2.3014328479766846, 2.301381826400757, 2.3013908863067627, 2.3013789653778076, 2.3013665676116943, 2.301377058029175, 2.301405191421509, 2.3014400005340576, 2.301417112350464, 2.301403522491455, 2.3014466762542725, 2.301462173461914, 2.3014743328094482, 2.3014509677886963, 2.3014378547668457, 2.3014161586761475, 2.3014400005340576, 2.301431655883789, 2.3014473915100098, 2.3014214038848877, 2.3014280796051025, 2.301440477371216, 2.3014328479766846, 2.306900978088379, 2.3050856590270996, 2.302647113800049, 2.302248239517212, 2.30177640914917, 2.3022425174713135, 2.3018031120300293, 2.3017466068267822, 2.3018290996551514, 2.3013951778411865, 2.3014237880706787, 2.3011889457702637, 2.301363945007324, 2.3013155460357666, 2.301400899887085, 2.301406145095825, 2.301434278488159, 2.3016204833984375, 2.301525831222534, 2.3015835285186768, 2.3012120723724365, 2.3015031814575195, 2.301551342010498, 2.301476001739502, 2.3014931678771973, 2.3013455867767334, 2.3013901710510254, 2.301513433456421, 2.3014426231384277, 2.3015518188476562, 2.3016252517700195, 2.30183482170105, 2.301618814468384, 2.3016486167907715, 2.3016464710235596, 2.3016889095306396, 2.301690101623535, 2.3016748428344727, 2.3016929626464844, 2.301759719848633, 2.301629066467285, 2.3016433715820312, 2.301515817642212, 2.3013951778411865, 2.301604986190796, 2.301680088043213, 2.301609516143799, 2.301619291305542, 2.3016812801361084, 2.3016810417175293, 2.3017637729644775, 2.3017194271087646, 2.301680564880371, 2.301645517349243, 2.30155873298645, 2.301603078842163, 2.3016529083251953, 2.3017313480377197, 2.3017642498016357, 2.3018264770507812, 2.3017992973327637, 2.3017966747283936, 2.3017091751098633, 2.30172061920166, 2.301720142364502, 2.301715850830078, 2.3017537593841553, 2.30165696144104, 2.3016600608825684, 2.301600456237793, 2.301562547683716, 2.301515817642212, 2.301439046859741, 2.3015592098236084, 2.3015518188476562, 2.301623582839966, 2.301670789718628, 2.301722526550293, 2.3017773628234863, 2.301831007003784, 2.301839828491211, 2.301820755004883, 2.30180025100708, 2.301776170730591, 2.301791191101074, 2.301788568496704, 2.3018088340759277, 2.3017520904541016, 2.301809787750244, 2.301786184310913, 2.301772117614746, 2.3018131256103516, 2.3018221855163574, 2.3016977310180664, 2.301645278930664, 2.301665782928467, 2.30163311958313, 2.3016111850738525, 2.3015661239624023, 2.3014588356018066, 2.3014652729034424, 2.3014299869537354, 2.30141544342041, 2.3014607429504395, 2.3014333248138428, 2.301494598388672, 2.3014535903930664, 2.301443099975586, 2.301365613937378, 2.3013522624969482, 2.301374673843384, 2.3013646602630615, 2.301360607147217, 2.3013744354248047, 2.301342248916626, 2.301340341567993, 2.301316976547241, 2.30133056640625, 2.3013248443603516, 2.3013384342193604, 2.301298141479492, 2.3013646602630615, 2.301348924636841, 2.3013646602630615, 2.3013100624084473, 2.3012640476226807, 2.3013484477996826, 2.3013763427734375, 2.301347255706787, 2.301306962966919, 2.301213026046753, 2.3012349605560303, 2.301281690597534, 2.301218271255493, 2.3011786937713623, 2.301237106323242, 2.3012351989746094, 2.301206350326538, 2.301231861114502, 2.301163911819458, 2.3011972904205322, 2.301215887069702, 2.3011600971221924, 2.301154375076294, 2.301170587539673, 2.3011529445648193, 2.301151752471924, 2.30112624168396, 2.301180362701416, 2.301147699356079, 2.3011584281921387, 2.301121473312378, 2.3011348247528076, 2.3011631965637207, 2.3012075424194336, 2.301224946975708, 2.3012328147888184, 2.301269054412842, 2.3012988567352295, 2.301318645477295, 2.301309108734131, 2.301284074783325, 2.3013484477996826, 2.3013789653778076, 2.3013715744018555, 2.3013553619384766, 2.301362991333008, 2.301360607147217, 2.301377534866333, 2.301396369934082, 2.3013956546783447, 2.3013956546783447, 2.301372528076172, 2.30137300491333, 2.301363945007324, 2.301360607147217, 2.3013691902160645, 2.3013482093811035, 2.301347494125366, 2.3013830184936523, 2.301365613937378, 2.3013877868652344, 2.3013949394226074, 2.3014070987701416, 2.301403045654297, 2.3014214038848877, 2.301417827606201, 2.3014044761657715, 2.302351713180542, 2.3027255535125732, 2.3010289669036865, 2.301455020904541, 2.301473379135132, 2.302950859069824, 2.302929401397705, 2.3027172088623047, 2.3023664951324463, 2.30195951461792, 2.3023386001586914, 2.3018834590911865, 2.3019659519195557, 2.301981210708618, 2.301769971847534, 2.3016390800476074, 2.3020195960998535, 2.3018150329589844, 2.3015084266662598, 2.301657199859619, 2.3014559745788574, 2.3012640476226807, 2.3015849590301514, 2.3013410568237305, 2.3010785579681396, 2.3011326789855957, 2.301173210144043, 2.3010599613189697, 2.30108642578125, 2.3010175228118896, 2.301023483276367, 2.3009469509124756, 2.301105499267578, 2.300920009613037, 2.300929307937622, 2.300877809524536, 2.300978183746338, 2.3008618354797363, 2.300945281982422, 2.3009331226348877, 2.3009231090545654, 2.3008272647857666, 2.300936460494995, 2.3009250164031982, 2.3010003566741943, 2.3009495735168457, 2.3009862899780273, 2.30114483833313, 2.3009772300720215, 2.3008742332458496, 2.301041603088379, 2.301076650619507, 2.3012547492980957, 2.3012239933013916, 2.301279067993164, 2.301229953765869, 2.3011422157287598, 2.3012125492095947, 2.3012278079986572, 2.301262378692627, 2.3012101650238037, 2.30107045173645, 2.30106782913208, 2.301102638244629, 2.3011374473571777, 2.3012783527374268, 2.3011653423309326, 2.301100969314575, 2.3010306358337402, 2.301025152206421, 2.301058053970337, 2.300975799560547, 2.300922393798828, 2.300955295562744, 2.300978660583496, 2.3009657859802246, 2.300940990447998, 2.3009543418884277, 2.3009603023529053, 2.300931692123413, 2.300872564315796, 2.300832986831665, 2.300715923309326, 2.300664186477661, 2.300729990005493, 2.3007357120513916, 2.3006649017333984, 2.300675868988037, 2.300638198852539, 2.3007090091705322, 2.300800085067749, 2.300832986831665, 2.300832748413086, 2.300762891769409, 2.300791025161743, 2.3008015155792236, 2.3008475303649902, 2.3008296489715576, 2.3008546829223633, 2.3008124828338623, 2.300841808319092, 2.300936460494995, 2.300945997238159, 2.3009305000305176, 2.300926923751831, 2.3009533882141113, 2.3009674549102783, 2.3009355068206787, 2.300938129425049, 2.300858974456787, 2.300865650177002, 2.300868511199951, 2.300901412963867, 2.300924301147461, 2.3008553981781006, 2.3008553981781006, 2.300877571105957, 2.300896644592285, 2.3008811473846436, 2.300847053527832, 2.3008625507354736, 2.3008387088775635, 2.3008832931518555, 2.3009159564971924, 2.3008859157562256, 2.3009018898010254, 2.3009161949157715, 2.3009443283081055, 2.3009560108184814, 2.3010265827178955, 2.301001787185669, 2.3010170459747314, 2.301004409790039, 2.3009984493255615, 2.301002025604248, 2.301013946533203, 2.3010270595550537, 2.300974130630493, 2.3010144233703613, 2.3010048866271973, 2.300987482070923, 2.301002025604248, 2.3009893894195557, 2.3010196685791016, 2.300987958908081, 2.300952672958374, 2.3009755611419678, 2.300990104675293, 2.301007032394409, 2.301003932952881, 2.3010404109954834, 2.3009979724884033, 2.3009963035583496, 2.3010215759277344, 2.3010008335113525, 2.301037549972534, 2.301058530807495, 2.301074743270874, 2.3010857105255127, 2.3010621070861816, 2.301051378250122, 2.3010940551757812, 2.3011176586151123, 2.301130771636963, 2.3011789321899414, 2.301201581954956, 2.301203966140747, 2.3012173175811768, 2.30122709274292, 2.3012354373931885, 2.3012354373931885, 2.3012685775756836, 2.301267623901367, 2.3012373447418213, 2.3012537956237793, 2.301231622695923, 2.301250457763672, 2.3012807369232178, 2.3012890815734863, 2.3012633323669434, 2.301252603530884, 2.3012614250183105, 2.301281452178955, 2.3013007640838623, 2.3013198375701904, 2.301328659057617, 2.3013298511505127, 2.3013341426849365, 2.3005871772766113, 2.299327850341797, 2.2985799312591553, 2.298922538757324, 2.2996459007263184, 2.2999229431152344, 2.3000903129577637, 2.3002398014068604, 2.3009424209594727, 2.301112651824951, 2.3014371395111084, 2.3014280796051025, 2.3013620376586914, 2.3011374473571777, 2.300994634628296, 2.300741672515869, 2.3010501861572266, 2.3011372089385986, 2.301487684249878, 2.3012642860412598, 2.3013081550598145, 2.3011484146118164, 2.301345109939575, 2.301192045211792, 2.301232099533081, 2.3013081550598145, 2.30121111869812, 2.301199197769165, 2.301079273223877, 2.3010141849517822, 2.3011460304260254, 2.3011176586151123, 2.3011841773986816, 2.3011608123779297, 2.3013651371002197, 2.301253318786621, 2.3011391162872314, 2.3010401725769043, 2.3009605407714844, 2.3010239601135254, 2.3010809421539307, 2.301257610321045, 2.301316499710083, 2.3013124465942383, 2.301302433013916, 2.3013224601745605, 2.3013765811920166, 2.3014233112335205, 2.3015105724334717, 2.3014698028564453, 2.301496744155884, 2.301443338394165, 2.301492691040039, 2.301492929458618, 2.3015167713165283, 2.301595687866211, 2.301621198654175, 2.301614761352539, 2.301661491394043, 2.301618814468384, 2.301572561264038, 2.301562786102295, 2.301577091217041, 2.301553726196289, 2.3015971183776855, 2.301630973815918, 2.3016469478607178, 2.3017215728759766, 2.301722764968872, 2.301724910736084, 2.301698923110962, 2.3016276359558105, 2.30167555809021, 2.3016269207000732, 2.30161452293396, 2.301591396331787, 2.3015944957733154, 2.3015480041503906, 2.301555871963501, 2.301532745361328, 2.3014862537384033, 2.3014400005340576, 2.301368236541748, 2.3013510704040527, 2.3014347553253174, 2.3013734817504883, 2.3013808727264404, 2.301370859146118, 2.301309585571289, 2.3012664318084717, 2.301267385482788, 2.3011772632598877, 2.3011696338653564, 2.3011157512664795, 2.30104923248291, 2.3010776042938232, 2.301126480102539, 2.3011584281921387, 2.301196813583374, 2.3012592792510986, 2.30132794380188, 2.301314353942871, 2.3012781143188477, 2.3012986183166504, 2.3013453483581543, 2.3013665676116943, 2.3014237880706787, 2.301409959793091, 2.301396608352661, 2.301429033279419, 2.3014376163482666, 2.301450729370117, 2.301407814025879, 2.301403284072876, 2.3013885021209717, 2.301419258117676, 2.301452398300171, 2.30142879486084, 2.301422595977783, 2.3014113903045654, 2.3013978004455566, 2.301331043243408, 2.3012709617614746, 2.3013200759887695, 2.3012964725494385, 2.301316022872925, 2.3013343811035156, 2.3013880252838135, 2.3014028072357178, 2.3013737201690674, 2.3013248443603516, 2.3013627529144287, 2.3013713359832764, 2.301300048828125, 2.3012945652008057, 2.301325559616089, 2.301360607147217, 2.3013625144958496, 2.30132794380188, 2.3013112545013428, 2.3013107776641846, 2.3012964725494385, 2.301328659057617, 2.3013219833374023, 2.3013339042663574, 2.3013675212860107, 2.3013505935668945, 2.3014066219329834, 2.3014016151428223, 2.301424980163574, 2.301448345184326, 2.301452159881592, 2.3014116287231445, 2.3014237880706787, 2.3014228343963623, 2.3014259338378906, 2.301452875137329, 2.301440954208374, 2.301448106765747, 2.3014769554138184, 2.3014774322509766, 2.3014590740203857, 2.3014907836914062, 2.3014776706695557, 2.3014745712280273, 2.301457166671753, 2.3014397621154785, 2.3014159202575684, 2.301452159881592, 2.3014538288116455, 2.301457166671753, 2.301460027694702, 2.301492214202881, 2.3015007972717285, 2.301485300064087, 2.3014583587646484, 2.301449775695801, 2.3014490604400635, 2.3014461994171143, 2.301455497741699, 2.3014252185821533, 2.301419258117676, 2.301436424255371, 2.301426887512207, 2.3014440536499023, 2.3014397621154785, 2.301443576812744, 2.301429271697998, 2.3013319969177246, 2.3008615970611572, 2.3023526668548584, 2.301361560821533, 2.3009331226348877, 2.3015151023864746, 2.300856113433838, 2.3015646934509277, 2.3010659217834473, 2.300874710083008, 2.3006374835968018, 2.3003244400024414, 2.2996959686279297, 2.300374746322632, 2.3003389835357666, 2.300154685974121, 2.3005356788635254, 2.3006105422973633, 2.3004868030548096, 2.3007431030273438, 2.3005497455596924, 2.3006370067596436, 2.300934076309204, 2.3012566566467285, 2.3012592792510986, 2.301326274871826, 2.301119565963745, 2.3011410236358643, 2.301095485687256, 2.301218271255493, 2.301201343536377, 2.3013429641723633, 2.3015151023864746, 2.3017265796661377, 2.301785945892334, 2.3018088340759277, 2.3018550872802734, 2.3018479347229004, 2.301798105239868, 2.3017218112945557, 2.30165958404541, 2.301578998565674, 2.3015270233154297, 2.301522970199585, 2.3015801906585693, 2.3014588356018066, 2.3013458251953125, 2.3013768196105957, 2.3014752864837646, 2.301455020904541, 2.3014020919799805, 2.301424980163574, 2.301422595977783, 2.301414966583252, 2.3013103008270264, 2.3012313842773438, 2.3011457920074463, 2.301196813583374, 2.3012726306915283, 2.3012242317199707, 2.3011980056762695, 2.3013081550598145, 2.301375389099121, 2.301450729370117, 2.301377296447754, 2.3014168739318848, 2.301499605178833, 2.3014636039733887, 2.301466703414917, 2.301455497741699, 2.3013999462127686, 2.3013744354248047, 2.3014109134674072, 2.30134916305542, 2.301297426223755, 2.301211357116699, 2.301208019256592, 2.3012046813964844, 2.301318883895874, 2.3013784885406494, 2.301429510116577, 2.301456928253174, 2.301406145095825, 2.3014039993286133, 2.301377296447754, 2.3014426231384277, 2.301419734954834, 2.301464557647705, 2.3014700412750244, 2.301511526107788, 2.3014795780181885, 2.3015637397766113, 2.301522731781006, 2.301520586013794, 2.3014895915985107, 2.30145001411438, 2.3014752864837646, 2.3014864921569824, 2.301462411880493, 2.3014962673187256, 2.3015167713165283, 2.3015055656433105, 2.30153489112854, 2.3014907836914062, 2.301440477371216, 2.3014092445373535, 2.3013997077941895, 2.301396608352661, 2.301365613937378, 2.3013508319854736, 2.3013381958007812, 2.301320791244507, 2.301332473754883, 2.3012592792510986, 2.301307439804077, 2.3013086318969727, 2.3012619018554688, 2.301255941390991, 2.301287889480591, 2.301257371902466, 2.301279306411743, 2.3013129234313965, 2.301287889480591, 2.3013453483581543, 2.301316976547241, 2.3012702465057373, 2.301269292831421, 2.301234006881714, 2.3011834621429443, 2.301194906234741, 2.3012123107910156, 2.3012540340423584, 2.301280975341797, 2.3013269901275635, 2.301358461380005, 2.301377773284912, 2.3013625144958496, 2.3013689517974854, 2.3013570308685303, 2.3013415336608887, 2.3012912273406982, 2.301304578781128, 2.301326274871826, 2.3013203144073486, 2.301326036453247, 2.301316022872925, 2.3013291358947754, 2.301304340362549, 2.3013007640838623, 2.3012804985046387, 2.3012967109680176, 2.3013036251068115, 2.301316738128662, 2.3013734817504883, 2.30133318901062, 2.301346778869629, 2.301347017288208, 2.3013482093811035, 2.3013246059417725, 2.301323413848877, 2.3013343811035156, 2.3013594150543213, 2.301348924636841, 2.3013460636138916, 2.301332473754883, 2.301372528076172, 2.3013858795166016, 2.3014090061187744, 2.3013510704040527, 2.301359176635742, 2.301367998123169, 2.301363706588745, 2.3014230728149414, 2.3014185428619385, 2.3014211654663086, 2.301417350769043, 2.3013880252838135, 2.301410675048828, 2.3013851642608643, 2.3013992309570312, 2.3014302253723145, 2.301424264907837, 2.3014345169067383, 2.301433801651001, 2.3014678955078125, 2.3014698028564453, 2.301456928253174, 2.301455497741699, 2.3065710067749023, 2.3022875785827637, 2.303082227706909, 2.302124500274658, 2.3022308349609375, 2.3027050495147705, 2.302260160446167, 2.3015193939208984, 2.301884651184082, 2.3021814823150635, 2.301701307296753, 2.301744222640991, 2.302006721496582, 2.3017489910125732, 2.3018300533294678, 2.301682233810425, 2.301528215408325, 2.301553249359131, 2.301893711090088, 2.3017120361328125, 2.3016700744628906, 2.3017935752868652, 2.3016839027404785, 2.3017895221710205, 2.301621437072754, 2.3015875816345215, 2.301699638366699, 2.3016393184661865, 2.30145263671875, 2.3014705181121826, 2.3015050888061523, 2.301408529281616, 2.301342248916626, 2.301362991333008, 2.301292896270752, 2.3013784885406494, 2.3014142513275146, 2.3013041019439697, 2.3014912605285645, 2.30151104927063, 2.301360607147217, 2.3013486862182617, 2.3014307022094727, 2.301652193069458, 2.301622152328491, 2.3014254570007324, 2.301398754119873, 2.3013906478881836, 2.301466226577759, 2.301459550857544, 2.3014328479766846, 2.301468849182129, 2.301487445831299, 2.3014652729034424, 2.3014614582061768, 2.3015220165252686, 2.301445245742798, 2.3015830516815186, 2.3014707565307617, 2.3014445304870605, 2.3014700412750244, 2.3015220165252686, 2.3015177249908447, 2.3015432357788086, 2.3014631271362305, 2.3014304637908936, 2.301506757736206, 2.3015317916870117, 2.301504135131836, 2.301426887512207, 2.3013932704925537, 2.301452398300171, 2.3014278411865234, 2.301500082015991, 2.3014395236968994, 2.3015358448028564, 2.301476240158081, 2.301470994949341, 2.3014779090881348, 2.3014256954193115, 2.3014681339263916, 2.3013927936553955, 2.301438808441162, 2.301398277282715, 2.3013715744018555, 2.3013315200805664, 2.301255226135254, 2.3012678623199463, 2.301332712173462, 2.3014211654663086, 2.30145001411438, 2.3014180660247803, 2.301325798034668, 2.3013205528259277, 2.301410436630249, 2.3013956546783447, 2.3014373779296875, 2.3014941215515137, 2.3014516830444336, 2.3014347553253174, 2.301389455795288, 2.3014273643493652, 2.301490545272827, 2.301530361175537, 2.3015694618225098, 2.3015458583831787, 2.3015668392181396, 2.3015329837799072, 2.3015029430389404, 2.301509141921997, 2.3015525341033936, 2.301560640335083, 2.301527500152588, 2.3015658855438232, 2.301600694656372, 2.3016154766082764, 2.3015880584716797, 2.301590919494629, 2.3015739917755127, 2.3015248775482178, 2.301558017730713, 2.301544666290283, 2.3015120029449463, 2.3015477657318115, 2.3015706539154053, 2.3015737533569336, 2.301577091217041, 2.3015763759613037, 2.3015999794006348, 2.3015832901000977, 2.30153751373291, 2.301522970199585, 2.301492929458618, 2.3014755249023438, 2.301464080810547, 2.3014326095581055, 2.301454544067383, 2.301440477371216, 2.3014039993286133, 2.301408052444458, 2.301448345184326, 2.301433801651001, 2.3014092445373535, 2.3014729022979736, 2.3014652729034424, 2.301485061645508, 2.3014280796051025, 2.3013968467712402, 2.301426410675049, 2.3014440536499023, 2.301436424255371, 2.301464319229126, 2.3014824390411377, 2.3015153408050537, 2.301539659500122, 2.3015217781066895, 2.3015153408050537, 2.3014957904815674, 2.3014471530914307, 2.301417589187622, 2.301400661468506, 2.3013832569122314, 2.3013522624969482, 2.3013947010040283, 2.3014090061187744, 2.3014185428619385, 2.301408290863037, 2.301419496536255, 2.30147123336792, 2.3014585971832275, 2.30145263671875, 2.301436424255371, 2.3014564514160156, 2.3014354705810547, 2.3014659881591797, 2.3014705181121826, 2.3014771938323975, 2.301456928253174, 2.3014814853668213, 2.301494836807251, 2.301466226577759, 2.301490545272827, 2.3014795780181885, 2.3014864921569824, 2.301481246948242, 2.3014485836029053, 2.3014564514160156, 2.3014466762542725, 2.3092055320739746, 2.3081600666046143, 2.3051936626434326, 2.304995536804199, 2.3043510913848877, 2.304508924484253, 2.304382562637329, 2.304314613342285, 2.3038601875305176, 2.3041696548461914, 2.3037772178649902, 2.3036725521087646, 2.303372859954834, 2.303009271621704, 2.3028719425201416, 2.30240797996521, 2.302332639694214, 2.302277088165283, 2.3023674488067627, 2.302161693572998, 2.3023080825805664, 2.3022003173828125, 2.3020522594451904, 2.3021585941314697, 2.302103042602539, 2.3021180629730225, 2.3023130893707275, 2.30250883102417, 2.3023247718811035, 2.3022139072418213, 2.3023571968078613, 2.302363395690918, 2.302238702774048, 2.3022115230560303, 2.3023295402526855, 2.302342176437378, 2.302337646484375, 2.3023078441619873, 2.3022513389587402, 2.30228853225708, 2.30234432220459, 2.302196979522705, 2.30220103263855, 2.302267551422119, 2.302161931991577, 2.302006483078003, 2.302065372467041, 2.3020410537719727, 2.3019962310791016, 2.301894426345825, 2.3018739223480225, 2.3018345832824707, 2.301845073699951, 2.30180025100708, 2.301806688308716, 2.3016834259033203, 2.301767110824585, 2.301713705062866, 2.301835298538208, 2.301882743835449, 2.3018436431884766, 2.301873207092285, 2.301833391189575, 2.3018672466278076, 2.3017923831939697, 2.3017468452453613, 2.3016722202301025, 2.3016510009765625, 2.301544189453125, 2.3014976978302, 2.301501750946045, 2.3014261722564697, 2.301516532897949, 2.3013885021209717, 2.3013415336608887, 2.301462173461914, 2.301452159881592, 2.3014302253723145, 2.3015172481536865, 2.301530122756958, 2.3015480041503906, 2.301528215408325, 2.3015384674072266, 2.3014636039733887, 2.3015098571777344, 2.3015353679656982, 2.301525831222534, 2.301548957824707, 2.3015618324279785, 2.3015084266662598, 2.301503896713257, 2.301530361175537, 2.3015329837799072, 2.3014707565307617, 2.3014421463012695, 2.301476240158081, 2.3014495372772217, 2.30143404006958, 2.301424264907837, 2.301417112350464, 2.301379919052124, 2.301344871520996, 2.3012850284576416, 2.3011980056762695, 2.3012447357177734, 2.301276922225952, 2.30134916305542, 2.3013453483581543, 2.3013432025909424, 2.301366090774536, 2.301361560821533, 2.301384210586548, 2.301379680633545, 2.3014369010925293, 2.3014142513275146, 2.301417350769043, 2.3014755249023438, 2.3015079498291016, 2.3015105724334717, 2.3014726638793945, 2.301420211791992, 2.3014233112335205, 2.3014297485351562, 2.301373243331909, 2.3013832569122314, 2.3013696670532227, 2.3014180660247803, 2.301398754119873, 2.3013830184936523, 2.301375150680542, 2.3013782501220703, 2.301348924636841, 2.3013641834259033, 2.3014039993286133, 2.3013675212860107, 2.301396608352661, 2.3013663291931152, 2.301396369934082, 2.3013875484466553, 2.3014211654663086, 2.3013927936553955, 2.3014283180236816, 2.301457405090332, 2.301422119140625, 2.3014349937438965, 2.301438570022583, 2.301466226577759, 2.3014674186706543, 2.3014445304870605, 2.3014514446258545, 2.301445722579956, 2.301476001739502, 2.301455497741699, 2.3014473915100098, 2.3014564514160156, 2.3014605045318604, 2.3014800548553467, 2.301469326019287, 2.3014824390411377, 2.301499366760254, 2.3015122413635254, 2.301490545272827, 2.3014705181121826, 2.301447868347168, 2.3014373779296875, 2.3014400005340576, 2.3014824390411377, 2.301497220993042, 2.301461696624756, 2.3014423847198486, 2.301466941833496, 2.301455020904541, 2.301499843597412, 2.3015174865722656, 2.3015356063842773, 2.3014943599700928, 2.3015122413635254, 2.3014957904815674, 2.301487684249878, 2.3014962673187256, 2.3015024662017822, 2.3014979362487793, 2.3014495372772217, 2.301426410675049, 2.3014228343963623, 2.301394462585449, 2.301384687423706, 2.301379919052124]\n"
     ]
    }
   ],
   "source": [
    "np.arange(len(history_sigmoid.losses))\n",
    "print(history_sigmoid.losses)"
   ]
  },
  {
   "cell_type": "code",
   "execution_count": 32,
   "metadata": {},
   "outputs": [
    {
     "data": {
      "image/png": "[encoded data removed]",
      "text/plain": [
       "<Figure size 432x288 with 1 Axes>"
      ]
     },
     "metadata": {
      "needs_background": "light"
     },
     "output_type": "display_data"
    }
   ],
   "source": [
    "plt.plot(np.arange(len(history_sigmoid.losses)), history_sigmoid.losses, label='sigmoid')\n",
    "plt.plot(np.arange(len(history_relu.losses)), history_relu.losses, label='relu')\n",
    "plt.title('Losses for sigmoid and ReLU model')\n",
    "plt.xlabel('number of batches')\n",
    "plt.ylabel('loss')\n",
    "plt.legend(loc=1)\n",
    "plt.show()\n",
    "\n",
    "# Losses for sigmoid and ReLU model"
   ]
  },
  {
   "cell_type": "code",
   "execution_count": 33,
   "metadata": {},
   "outputs": [],
   "source": [
    "# Extract the maximum weights of each model per layer\n",
    "\n",
    "w_sigmoid = []\n",
    "w_relu = []\n",
    "for i in range(len(model_sigmoid.layers)):\n",
    "    w_sigmoid.append(max(model_sigmoid.layers[i].get_weights()[1]))\n",
    "    w_relu.append(max(model_relu.layers[i].get_weights()[1]))"
   ]
  },
  {
   "cell_type": "code",
   "execution_count": 34,
   "metadata": {},
   "outputs": [
    {
     "name": "stdout",
     "output_type": "stream",
     "text": [
      "[1.4153968e-06, 3.0069175e-06, 1.1379353e-05, 4.9534494e-05, 0.00024916205, 0.00094453635, 0.0064326264, 0.031114971]\n",
      "[0.019275943, 0.02044048, 0.020353308, 0.020843271, 0.025935387, 0.033438668, 0.04340636, 0.10810467]\n"
     ]
    }
   ],
   "source": [
    "print(w_sigmoid)\n",
    "print(w_relu)"
   ]
  },
  {
   "cell_type": "code",
   "execution_count": 37,
   "metadata": {},
   "outputs": [
    {
     "name": "stdout",
     "output_type": "stream",
     "text": [
      "8\n"
     ]
    }
   ],
   "source": [
    "print(len(model_sigmoid.layers))"
   ]
  },
  {
   "cell_type": "code",
   "execution_count": 35,
   "metadata": {},
   "outputs": [
    {
     "data": {
      "image/png": "[encoded data removed]",
      "text/plain": [
       "<Figure size 432x288 with 1 Axes>"
      ]
     },
     "metadata": {
      "needs_background": "light"
     },
     "output_type": "display_data"
    }
   ],
   "source": [
    "# Plot the weights of both models\n",
    "\n",
    "fig, ax = plt.subplots()\n",
    "\n",
    "index = np.arange(len(model_sigmoid.layers))\n",
    "bar_width = 0.35\n",
    "\n",
    "plt.bar(index, w_sigmoid, bar_width, label='sigmoid', color='b', alpha=0.4)\n",
    "plt.bar(index + bar_width, w_relu, bar_width, label='relu', color='r', alpha=0.4)\n",
    "plt.title('Maximum weights across layers for sigmoid and ReLU activation functions')\n",
    "plt.xlabel('layer number')\n",
    "plt.ylabel('maximum weight')\n",
    "plt.legend(loc=0)\n",
    "\n",
    "plt.xticks(index + bar_width / 2, np.arange(8))\n",
    "plt.show()"
   ]
  },
  {
   "cell_type": "code",
   "execution_count": null,
   "metadata": {},
   "outputs": [],
   "source": []
  }
 ],
 "metadata": {
  "kernelspec": {
   "display_name": "Python 3 (ipykernel)",
   "language": "python",
   "name": "python3"
  },
  "language_info": {
   "codemirror_mode": {
    "name": "ipython",
    "version": 3
   },
   "file_extension": ".py",
   "mimetype": "text/x-python",
   "name": "python",
   "nbconvert_exporter": "python",
   "pygments_lexer": "ipython3",
   "version": "3.9.7"
  },
  "widgets": {
   "state": {},
   "version": "1.1.2"
  }
 },
 "nbformat": 4,
 "nbformat_minor": 2
}
